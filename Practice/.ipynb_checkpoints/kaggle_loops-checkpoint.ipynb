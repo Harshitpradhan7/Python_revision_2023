{
 "cells": [
  {
   "cell_type": "code",
   "execution_count": 57,
   "id": "fe6b0f64",
   "metadata": {},
   "outputs": [],
   "source": [
    "import pandas as pd\n",
    "import numpy as np"
   ]
  },
  {
   "cell_type": "markdown",
   "id": "2f8480ef",
   "metadata": {},
   "source": [
    "### Question 1 "
   ]
  },
  {
   "cell_type": "code",
   "execution_count": 8,
   "id": "9430f325",
   "metadata": {},
   "outputs": [],
   "source": [
    "## Code with Error:\n",
    "def has_lucky_number(nums):\n",
    "    \"\"\"Return whether the given list of numbers is lucky. A lucky list contains\n",
    "    at least one number divisible by 7.\n",
    "    \"\"\"\n",
    "    for num in nums:\n",
    "        if num % 7 == 0:\n",
    "            return True\n",
    "        else:\n",
    "            return False"
   ]
  },
  {
   "cell_type": "code",
   "execution_count": 31,
   "id": "bd530e53",
   "metadata": {},
   "outputs": [
    {
     "data": {
      "text/plain": [
       "True"
      ]
     },
     "execution_count": 31,
     "metadata": {},
     "output_type": "execute_result"
    }
   ],
   "source": [
    "# No error and optimal code:\n",
    "def has_lucky_number(nums):\n",
    "    return any([num % 7 == 0 for num in nums])\n",
    "\n",
    "has_lucky_number([2,16,14,13,12,19])"
   ]
  },
  {
   "cell_type": "code",
   "execution_count": 34,
   "id": "7324f7ea",
   "metadata": {},
   "outputs": [
    {
     "name": "stdout",
     "output_type": "stream",
     "text": [
      "True\n",
      "False\n"
     ]
    }
   ],
   "source": [
    "## Concept of any(): Return True even if one condiotion is true....\n",
    "l = [False, False, False, False,True]\n",
    "l_1 = [False, False, False, False]\n",
    "print(any(l))\n",
    "print(any(l_1))"
   ]
  },
  {
   "cell_type": "markdown",
   "id": "d50abea3",
   "metadata": {},
   "source": [
    "###  Question 2:"
   ]
  },
  {
   "cell_type": "code",
   "execution_count": 27,
   "id": "d810a846",
   "metadata": {},
   "outputs": [],
   "source": [
    "L = [1, 2, 3, 4] "
   ]
  },
  {
   "cell_type": "code",
   "execution_count": 39,
   "id": "080ca5ac",
   "metadata": {},
   "outputs": [],
   "source": [
    "def elementwise_greater_than(L, thresh):\n",
    "    return ([l>thresh for l in L]) \n",
    "    \n",
    "    \"\"\"Return a list with the same length as L, where the value at index i is \n",
    "    True if L[i] is greater than thresh, and False otherwise.\n",
    "    \n",
    "    >>> elementwise_greater_than([1, 2, 3, 4], 2)\n",
    "    [False, False, True, True]\n",
    "    \"\"\"\n",
    "    return ([l>thresh for l in L]) "
   ]
  },
  {
   "cell_type": "code",
   "execution_count": 40,
   "id": "a7d29c34",
   "metadata": {},
   "outputs": [
    {
     "data": {
      "text/plain": [
       "[False, False, False, False]"
      ]
     },
     "execution_count": 40,
     "metadata": {},
     "output_type": "execute_result"
    }
   ],
   "source": [
    "elementwise_greater_than(L,5)"
   ]
  },
  {
   "cell_type": "markdown",
   "id": "b3312471",
   "metadata": {},
   "source": [
    "### Question 3: "
   ]
  },
  {
   "cell_type": "code",
   "execution_count": 42,
   "id": "6a2bd8e1",
   "metadata": {},
   "outputs": [],
   "source": [
    "def menu_is_boring(meals):\n",
    "    \"\"\"Given a list of meals served over some period of time, return True if the\n",
    "    same meal has ever been served two days in a row, and False otherwise.\n",
    "    \"\"\"\n",
    "    return ([meal == meals[meal-1] for meal in meals])"
   ]
  },
  {
   "cell_type": "code",
   "execution_count": 59,
   "id": "b4f501fc",
   "metadata": {},
   "outputs": [],
   "source": [
    "a = 'Aman'\n",
    "b = 'bhuvan'"
   ]
  },
  {
   "cell_type": "code",
   "execution_count": 60,
   "id": "c370dda4",
   "metadata": {},
   "outputs": [
    {
     "data": {
      "text/plain": [
       "False"
      ]
     },
     "execution_count": 60,
     "metadata": {},
     "output_type": "execute_result"
    }
   ],
   "source": [
    "a == b"
   ]
  },
  {
   "cell_type": "code",
   "execution_count": 61,
   "id": "83cd5aee",
   "metadata": {},
   "outputs": [],
   "source": [
    "lst = ['Aman','Bhuvan','Chaman','Daman','Aman']"
   ]
  },
  {
   "cell_type": "code",
   "execution_count": null,
   "id": "4f50e0ee",
   "metadata": {},
   "outputs": [],
   "source": []
  },
  {
   "cell_type": "code",
   "execution_count": null,
   "id": "5cc17519",
   "metadata": {},
   "outputs": [],
   "source": []
  }
 ],
 "metadata": {
  "kernelspec": {
   "display_name": "Python 3 (ipykernel)",
   "language": "python",
   "name": "python3"
  },
  "language_info": {
   "codemirror_mode": {
    "name": "ipython",
    "version": 3
   },
   "file_extension": ".py",
   "mimetype": "text/x-python",
   "name": "python",
   "nbconvert_exporter": "python",
   "pygments_lexer": "ipython3",
   "version": "3.10.9"
  }
 },
 "nbformat": 4,
 "nbformat_minor": 5
}
