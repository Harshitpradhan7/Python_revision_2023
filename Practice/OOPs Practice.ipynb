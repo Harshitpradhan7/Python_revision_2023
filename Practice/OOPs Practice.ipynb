{
 "cells": [
  {
   "cell_type": "code",
   "execution_count": 74,
   "id": "6866e8fa",
   "metadata": {},
   "outputs": [],
   "source": [
    "class Employee():\n",
    "    \n",
    "    num_employees = 0\n",
    "    raise_pay_ = 1.1\n",
    "    def __init__(self, f_name, l_name, salary):  # Same as contructor in other langauges\n",
    "        self.f_name = f_name\n",
    "        self.l_name = l_name\n",
    "        self.salary = salary\n",
    "        self.email  = f_name + '.' + l_name + '@company.com'\n",
    "        \n",
    "        Employee.num_employees += 1\n",
    "        \n",
    "    def raise_pay(self):\n",
    "        return 'Raised Salary: {}'.format(int(self.salary * self.raise_pay_))"
   ]
  },
  {
   "cell_type": "code",
   "execution_count": 75,
   "id": "b974d098",
   "metadata": {},
   "outputs": [
    {
     "name": "stdout",
     "output_type": "stream",
     "text": [
      "0\n"
     ]
    }
   ],
   "source": [
    "print(Employee.num_employees)"
   ]
  },
  {
   "cell_type": "code",
   "execution_count": 76,
   "id": "1a2339d4",
   "metadata": {},
   "outputs": [],
   "source": [
    "emp_1 = Employee('Harry','Pradhan', 80000)\n"
   ]
  },
  {
   "cell_type": "code",
   "execution_count": 77,
   "id": "d5902b39",
   "metadata": {},
   "outputs": [
    {
     "name": "stdout",
     "output_type": "stream",
     "text": [
      "1\n"
     ]
    }
   ],
   "source": [
    "print(Employee.num_employees)"
   ]
  },
  {
   "cell_type": "code",
   "execution_count": 63,
   "id": "59270f27",
   "metadata": {},
   "outputs": [
    {
     "data": {
      "text/plain": [
       "'Harry'"
      ]
     },
     "execution_count": 63,
     "metadata": {},
     "output_type": "execute_result"
    }
   ],
   "source": [
    "emp_1.f_name"
   ]
  },
  {
   "cell_type": "code",
   "execution_count": 64,
   "id": "deec25a4",
   "metadata": {},
   "outputs": [
    {
     "data": {
      "text/plain": [
       "'Pradhan'"
      ]
     },
     "execution_count": 64,
     "metadata": {},
     "output_type": "execute_result"
    }
   ],
   "source": [
    "emp_1.l_name"
   ]
  },
  {
   "cell_type": "code",
   "execution_count": 65,
   "id": "97a5cd8f",
   "metadata": {},
   "outputs": [
    {
     "data": {
      "text/plain": [
       "80000"
      ]
     },
     "execution_count": 65,
     "metadata": {},
     "output_type": "execute_result"
    }
   ],
   "source": [
    "emp_1.salary"
   ]
  },
  {
   "cell_type": "code",
   "execution_count": 66,
   "id": "cd0fc337",
   "metadata": {},
   "outputs": [
    {
     "data": {
      "text/plain": [
       "'Raised Salary: 88000'"
      ]
     },
     "execution_count": 66,
     "metadata": {},
     "output_type": "execute_result"
    }
   ],
   "source": [
    "emp_1.raise_pay()"
   ]
  },
  {
   "cell_type": "code",
   "execution_count": 67,
   "id": "5f40ba44",
   "metadata": {},
   "outputs": [
    {
     "data": {
      "text/plain": [
       "1.1"
      ]
     },
     "execution_count": 67,
     "metadata": {},
     "output_type": "execute_result"
    }
   ],
   "source": [
    "emp_1.raise_pay_"
   ]
  },
  {
   "cell_type": "code",
   "execution_count": 79,
   "id": "122e1f16",
   "metadata": {},
   "outputs": [],
   "source": [
    "emp2 = Employee('Jerry','Arman', 90000)"
   ]
  },
  {
   "cell_type": "code",
   "execution_count": 80,
   "id": "7e708f16",
   "metadata": {},
   "outputs": [
    {
     "name": "stdout",
     "output_type": "stream",
     "text": [
      "2\n"
     ]
    }
   ],
   "source": [
    "print(Employee.num_employees)"
   ]
  },
  {
   "cell_type": "code",
   "execution_count": 69,
   "id": "40f9991f",
   "metadata": {},
   "outputs": [
    {
     "data": {
      "text/plain": [
       "1.1"
      ]
     },
     "execution_count": 69,
     "metadata": {},
     "output_type": "execute_result"
    }
   ],
   "source": [
    "emp2.raise_pay_"
   ]
  },
  {
   "cell_type": "code",
   "execution_count": 70,
   "id": "05bf6d17",
   "metadata": {},
   "outputs": [
    {
     "data": {
      "text/plain": [
       "'Raised Salary: 99000'"
      ]
     },
     "execution_count": 70,
     "metadata": {},
     "output_type": "execute_result"
    }
   ],
   "source": [
    "emp2.raise_pay()"
   ]
  },
  {
   "cell_type": "code",
   "execution_count": 71,
   "id": "c8cbe428",
   "metadata": {},
   "outputs": [],
   "source": [
    "emp2.raise_pay_ = 1.05"
   ]
  },
  {
   "cell_type": "code",
   "execution_count": 72,
   "id": "2cbab2b0",
   "metadata": {},
   "outputs": [
    {
     "data": {
      "text/plain": [
       "'Raised Salary: 94500'"
      ]
     },
     "execution_count": 72,
     "metadata": {},
     "output_type": "execute_result"
    }
   ],
   "source": [
    "emp2.raise_pay()"
   ]
  },
  {
   "cell_type": "code",
   "execution_count": 81,
   "id": "8379ceca",
   "metadata": {},
   "outputs": [],
   "source": [
    "emp3 = Employee('test', 'user', 56000)\n",
    "emp4 = Employee('test0', 'user0', 86000)"
   ]
  },
  {
   "cell_type": "code",
   "execution_count": 82,
   "id": "377bed37",
   "metadata": {},
   "outputs": [
    {
     "name": "stdout",
     "output_type": "stream",
     "text": [
      "4\n"
     ]
    }
   ],
   "source": [
    "print(Employee.num_employees)"
   ]
  },
  {
   "cell_type": "code",
   "execution_count": null,
   "id": "babcf846",
   "metadata": {},
   "outputs": [],
   "source": []
  }
 ],
 "metadata": {
  "kernelspec": {
   "display_name": "Python 3 (ipykernel)",
   "language": "python",
   "name": "python3"
  },
  "language_info": {
   "codemirror_mode": {
    "name": "ipython",
    "version": 3
   },
   "file_extension": ".py",
   "mimetype": "text/x-python",
   "name": "python",
   "nbconvert_exporter": "python",
   "pygments_lexer": "ipython3",
   "version": "3.10.9"
  }
 },
 "nbformat": 4,
 "nbformat_minor": 5
}
