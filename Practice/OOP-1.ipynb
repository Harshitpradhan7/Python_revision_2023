{
 "cells": [
  {
   "cell_type": "code",
   "execution_count": 37,
   "id": "480cad0d",
   "metadata": {},
   "outputs": [],
   "source": [
    "class Vehicle():\n",
    "    def __init__(self,name, max_speed, mileage):\n",
    "        self.name = name\n",
    "        self.max_speed = max_speed\n",
    "        self.mileage = mileage"
   ]
  },
  {
   "cell_type": "code",
   "execution_count": 38,
   "id": "074f8f74",
   "metadata": {},
   "outputs": [],
   "source": [
    "modelX = Vehicle(\"Tata\",240, 20)"
   ]
  },
  {
   "cell_type": "code",
   "execution_count": 41,
   "id": "7743359d",
   "metadata": {},
   "outputs": [
    {
     "data": {
      "text/plain": [
       "'Tata'"
      ]
     },
     "execution_count": 41,
     "metadata": {},
     "output_type": "execute_result"
    }
   ],
   "source": [
    "modelX.name"
   ]
  },
  {
   "cell_type": "code",
   "execution_count": 44,
   "id": "0d2ae44a",
   "metadata": {},
   "outputs": [
    {
     "name": "stdout",
     "output_type": "stream",
     "text": [
      "Car company is Tata with  Max Speed of 240km/hr. and have Mileage 20km/ltr.\n"
     ]
    }
   ],
   "source": [
    "print('Car company is {} with  Max Speed of {}km/hr. and have Mileage {}km/ltr.'.format(modelX.name, modelX.max_speed, modelX.mileage))"
   ]
  },
  {
   "cell_type": "code",
   "execution_count": 53,
   "id": "9c2e71f1",
   "metadata": {},
   "outputs": [],
   "source": [
    "class Bus(Vehicle):\n",
    "    def __init__(self,name, max_speed, mileage, capacity):\n",
    "        super.__init__(name, max_speed, mileage)\n",
    "        self.capacity = capacity\n",
    "        "
   ]
  },
  {
   "cell_type": "code",
   "execution_count": 55,
   "id": "0d6c85d4",
   "metadata": {},
   "outputs": [
    {
     "ename": "TypeError",
     "evalue": "descriptor '__init__' requires a 'super' object but received a 'str'",
     "output_type": "error",
     "traceback": [
      "\u001b[1;31m---------------------------------------------------------------------------\u001b[0m",
      "\u001b[1;31mTypeError\u001b[0m                                 Traceback (most recent call last)",
      "Cell \u001b[1;32mIn[55], line 1\u001b[0m\n\u001b[1;32m----> 1\u001b[0m school_bus \u001b[38;5;241m=\u001b[39m \u001b[43mBus\u001b[49m\u001b[43m(\u001b[49m\u001b[38;5;124;43m\"\u001b[39;49m\u001b[38;5;124;43mVolvo\u001b[39;49m\u001b[38;5;124;43m\"\u001b[39;49m\u001b[43m,\u001b[49m\u001b[43m \u001b[49m\u001b[38;5;241;43m120\u001b[39;49m\u001b[43m,\u001b[49m\u001b[43m \u001b[49m\u001b[38;5;241;43m12\u001b[39;49m\u001b[43m,\u001b[49m\u001b[38;5;241;43m50\u001b[39;49m\u001b[43m)\u001b[49m\n",
      "Cell \u001b[1;32mIn[53], line 3\u001b[0m, in \u001b[0;36mBus.__init__\u001b[1;34m(self, name, max_speed, mileage, capacity)\u001b[0m\n\u001b[0;32m      2\u001b[0m \u001b[38;5;28;01mdef\u001b[39;00m \u001b[38;5;21m__init__\u001b[39m(\u001b[38;5;28mself\u001b[39m,name, max_speed, mileage, capacity):\n\u001b[1;32m----> 3\u001b[0m     \u001b[38;5;28;43msuper\u001b[39;49m\u001b[38;5;241;43m.\u001b[39;49m\u001b[38;5;21;43m__init__\u001b[39;49m\u001b[43m(\u001b[49m\u001b[43mname\u001b[49m\u001b[43m,\u001b[49m\u001b[43m \u001b[49m\u001b[43mmax_speed\u001b[49m\u001b[43m,\u001b[49m\u001b[43m \u001b[49m\u001b[43mmileage\u001b[49m\u001b[43m)\u001b[49m\n\u001b[0;32m      4\u001b[0m     \u001b[38;5;28mself\u001b[39m\u001b[38;5;241m.\u001b[39mcapacity \u001b[38;5;241m=\u001b[39m capacity\n",
      "\u001b[1;31mTypeError\u001b[0m: descriptor '__init__' requires a 'super' object but received a 'str'"
     ]
    }
   ],
   "source": [
    "school_bus = Bus(\"Volvo\", 120, 12,50)"
   ]
  },
  {
   "cell_type": "code",
   "execution_count": 47,
   "id": "bcf2e4cc",
   "metadata": {},
   "outputs": [
    {
     "name": "stdout",
     "output_type": "stream",
     "text": [
      "Volvo 120 12\n"
     ]
    }
   ],
   "source": [
    "print(school_bus.name,  school_bus.max_speed, school_bus.mileage)"
   ]
  },
  {
   "cell_type": "code",
   "execution_count": 52,
   "id": "827fc131",
   "metadata": {},
   "outputs": [
    {
     "ename": "TypeError",
     "evalue": "Bus.__init__() takes 2 positional arguments but 5 were given",
     "output_type": "error",
     "traceback": [
      "\u001b[1;31m---------------------------------------------------------------------------\u001b[0m",
      "\u001b[1;31mTypeError\u001b[0m                                 Traceback (most recent call last)",
      "Cell \u001b[1;32mIn[52], line 1\u001b[0m\n\u001b[1;32m----> 1\u001b[0m school_bus \u001b[38;5;241m=\u001b[39m \u001b[43mBus\u001b[49m\u001b[43m(\u001b[49m\u001b[38;5;124;43m\"\u001b[39;49m\u001b[38;5;124;43mVolvo\u001b[39;49m\u001b[38;5;124;43m\"\u001b[39;49m\u001b[43m,\u001b[49m\u001b[43m \u001b[49m\u001b[38;5;241;43m120\u001b[39;49m\u001b[43m,\u001b[49m\u001b[43m \u001b[49m\u001b[38;5;241;43m12\u001b[39;49m\u001b[43m,\u001b[49m\u001b[43m \u001b[49m\u001b[38;5;241;43m50\u001b[39;49m\u001b[43m)\u001b[49m\n",
      "\u001b[1;31mTypeError\u001b[0m: Bus.__init__() takes 2 positional arguments but 5 were given"
     ]
    }
   ],
   "source": [
    "school_bus = Bus(\"Volvo\", 120, 12, 50)"
   ]
  },
  {
   "cell_type": "code",
   "execution_count": 50,
   "id": "582c737e",
   "metadata": {},
   "outputs": [
    {
     "ename": "AttributeError",
     "evalue": "'Bus' object has no attribute 'capacity'",
     "output_type": "error",
     "traceback": [
      "\u001b[1;31m---------------------------------------------------------------------------\u001b[0m",
      "\u001b[1;31mAttributeError\u001b[0m                            Traceback (most recent call last)",
      "Cell \u001b[1;32mIn[50], line 1\u001b[0m\n\u001b[1;32m----> 1\u001b[0m \u001b[43mschool_bus\u001b[49m\u001b[38;5;241;43m.\u001b[39;49m\u001b[43mcapacity\u001b[49m\n",
      "\u001b[1;31mAttributeError\u001b[0m: 'Bus' object has no attribute 'capacity'"
     ]
    }
   ],
   "source": [
    "school_bus.capacity"
   ]
  },
  {
   "cell_type": "code",
   "execution_count": null,
   "id": "a6c96c02",
   "metadata": {},
   "outputs": [],
   "source": []
  }
 ],
 "metadata": {
  "kernelspec": {
   "display_name": "Python 3 (ipykernel)",
   "language": "python",
   "name": "python3"
  },
  "language_info": {
   "codemirror_mode": {
    "name": "ipython",
    "version": 3
   },
   "file_extension": ".py",
   "mimetype": "text/x-python",
   "name": "python",
   "nbconvert_exporter": "python",
   "pygments_lexer": "ipython3",
   "version": "3.10.9"
  }
 },
 "nbformat": 4,
 "nbformat_minor": 5
}
