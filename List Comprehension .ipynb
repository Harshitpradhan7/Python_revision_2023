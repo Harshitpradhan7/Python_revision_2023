{
 "cells": [
  {
   "cell_type": "markdown",
   "id": "43f99994",
   "metadata": {},
   "source": [
    "### List Comprehension: "
   ]
  },
  {
   "cell_type": "code",
   "execution_count": 1,
   "id": "9622f322",
   "metadata": {},
   "outputs": [],
   "source": [
    "lst1 = []\n",
    "def square(lst):\n",
    "    for i in lst:\n",
    "        lst1.append(i*i)\n",
    "    return lst1"
   ]
  },
  {
   "cell_type": "code",
   "execution_count": 3,
   "id": "9e19d152",
   "metadata": {},
   "outputs": [
    {
     "data": {
      "text/plain": [
       "[441, 484, 529, 576, 625, 676]"
      ]
     },
     "execution_count": 3,
     "metadata": {},
     "output_type": "execute_result"
    }
   ],
   "source": [
    "square([21,22,23,24,25,26])"
   ]
  },
  {
   "cell_type": "code",
   "execution_count": 4,
   "id": "49a7b6ec",
   "metadata": {},
   "outputs": [],
   "source": [
    "## Now this is list comprehension: We are using it to maintain time and space.\n",
    "lst = [21,22,23,24,25,26]"
   ]
  },
  {
   "cell_type": "code",
   "execution_count": 8,
   "id": "809a7e38",
   "metadata": {},
   "outputs": [
    {
     "data": {
      "text/plain": [
       "[441, 484, 529, 576, 625, 676]"
      ]
     },
     "execution_count": 8,
     "metadata": {},
     "output_type": "execute_result"
    }
   ],
   "source": [
    "# List comprehension with for loop:\n",
    "[i*i for i in lst]"
   ]
  },
  {
   "cell_type": "code",
   "execution_count": 7,
   "id": "aed81dfc",
   "metadata": {},
   "outputs": [
    {
     "data": {
      "text/plain": [
       "[484, 576, 676]"
      ]
     },
     "execution_count": 7,
     "metadata": {},
     "output_type": "execute_result"
    }
   ],
   "source": [
    "# List comprehension with for loop and if statement:\n",
    "[i*i for i in lst if i*i%2 == 0]"
   ]
  },
  {
   "cell_type": "code",
   "execution_count": null,
   "id": "f979be3a",
   "metadata": {},
   "outputs": [],
   "source": []
  }
 ],
 "metadata": {
  "kernelspec": {
   "display_name": "Python 3 (ipykernel)",
   "language": "python",
   "name": "python3"
  },
  "language_info": {
   "codemirror_mode": {
    "name": "ipython",
    "version": 3
   },
   "file_extension": ".py",
   "mimetype": "text/x-python",
   "name": "python",
   "nbconvert_exporter": "python",
   "pygments_lexer": "ipython3",
   "version": "3.10.9"
  }
 },
 "nbformat": 4,
 "nbformat_minor": 5
}
