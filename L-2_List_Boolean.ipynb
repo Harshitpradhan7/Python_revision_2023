{
 "cells": [
  {
   "cell_type": "code",
   "execution_count": 2,
   "id": "145f49cf",
   "metadata": {},
   "outputs": [
    {
     "data": {
      "text/plain": [
       "False"
      ]
     },
     "execution_count": 2,
     "metadata": {},
     "output_type": "execute_result"
    }
   ],
   "source": [
    "a = 'Apple'\n",
    "# After variable name dot lga ke tab press krne pr inbuilt functions appear ho jate h....\n",
    "\n",
    "a.endswith('q')"
   ]
  },
  {
   "cell_type": "code",
   "execution_count": 1,
   "id": "9bd23e1b",
   "metadata": {},
   "outputs": [
    {
     "data": {
      "text/plain": [
       "{'Car1': 'Audi', 'Car2': 'Mercedes', 'Car3': 'BmW'}"
      ]
     },
     "execution_count": 1,
     "metadata": {},
     "output_type": "execute_result"
    }
   ],
   "source": [
    "a = {'Car1':'Audi', 'Car2':'Mercedes', 'Car3':'BmW'}\n",
    "a"
   ]
  },
  {
   "cell_type": "code",
   "execution_count": 2,
   "id": "4758dbf0",
   "metadata": {},
   "outputs": [
    {
     "data": {
      "text/plain": [
       "dict"
      ]
     },
     "execution_count": 2,
     "metadata": {},
     "output_type": "execute_result"
    }
   ],
   "source": [
    "type(a)"
   ]
  },
  {
   "cell_type": "code",
   "execution_count": 3,
   "id": "cb3736c1",
   "metadata": {},
   "outputs": [
    {
     "data": {
      "text/plain": [
       "<function dict.keys>"
      ]
     },
     "execution_count": 3,
     "metadata": {},
     "output_type": "execute_result"
    }
   ],
   "source": [
    "a.keys"
   ]
  },
  {
   "cell_type": "code",
   "execution_count": 4,
   "id": "8a7ae5b1",
   "metadata": {},
   "outputs": [
    {
     "name": "stdout",
     "output_type": "stream",
     "text": [
      "<built-in method keys of dict object at 0x0000023A164CF480>\n"
     ]
    }
   ],
   "source": [
    "print(a.keys)"
   ]
  },
  {
   "cell_type": "code",
   "execution_count": 9,
   "id": "c60e6c55",
   "metadata": {},
   "outputs": [
    {
     "name": "stdout",
     "output_type": "stream",
     "text": [
      "Audi\n",
      "Mercedes\n",
      "BmW\n"
     ]
    }
   ],
   "source": [
    "for x in a.values():\n",
    "    print(x)"
   ]
  },
  {
   "cell_type": "code",
   "execution_count": 10,
   "id": "e629a2fb",
   "metadata": {},
   "outputs": [
    {
     "name": "stdout",
     "output_type": "stream",
     "text": [
      "Car1\n",
      "Car2\n",
      "Car3\n"
     ]
    }
   ],
   "source": [
    "for x in a.keys():\n",
    "    print(x)"
   ]
  },
  {
   "cell_type": "code",
   "execution_count": 11,
   "id": "23556c7b",
   "metadata": {},
   "outputs": [
    {
     "name": "stdout",
     "output_type": "stream",
     "text": [
      "('Car1', 'Audi')\n",
      "('Car2', 'Mercedes')\n",
      "('Car3', 'BmW')\n"
     ]
    }
   ],
   "source": [
    "for x in a.items():\n",
    "    print(x)"
   ]
  },
  {
   "cell_type": "code",
   "execution_count": 12,
   "id": "da30f293",
   "metadata": {},
   "outputs": [],
   "source": [
    "import numpy as np\n"
   ]
  },
  {
   "cell_type": "code",
   "execution_count": 20,
   "id": "e6fa8b7c",
   "metadata": {},
   "outputs": [
    {
     "data": {
      "text/plain": [
       "array([[1, 1, 1, 1],\n",
       "       [1, 1, 1, 1]])"
      ]
     },
     "execution_count": 20,
     "metadata": {},
     "output_type": "execute_result"
    }
   ],
   "source": [
    "b = np.ones((2,4), dtype = int)"
   ]
  },
  {
   "cell_type": "code",
   "execution_count": 33,
   "id": "298c9495",
   "metadata": {},
   "outputs": [
    {
     "data": {
      "text/plain": [
       "array([[0, 0, 0],\n",
       "       [0, 0, 0],\n",
       "       [0, 0, 0]])"
      ]
     },
     "execution_count": 33,
     "metadata": {},
     "output_type": "execute_result"
    }
   ],
   "source": [
    "a1 = np.zeros((3,3), dtype = int)\n",
    "a1"
   ]
  },
  {
   "cell_type": "code",
   "execution_count": 34,
   "id": "51d0feaf",
   "metadata": {},
   "outputs": [],
   "source": [
    "a1[1][1] = 7"
   ]
  },
  {
   "cell_type": "code",
   "execution_count": 35,
   "id": "409271e5",
   "metadata": {},
   "outputs": [
    {
     "data": {
      "text/plain": [
       "array([[0, 0, 0],\n",
       "       [0, 7, 0],\n",
       "       [0, 0, 0]])"
      ]
     },
     "execution_count": 35,
     "metadata": {},
     "output_type": "execute_result"
    }
   ],
   "source": [
    "a1"
   ]
  },
  {
   "cell_type": "code",
   "execution_count": 37,
   "id": "2d765d2d",
   "metadata": {},
   "outputs": [
    {
     "data": {
      "text/plain": [
       "array([[0.51442342, 0.12314264],\n",
       "       [0.00196228, 0.96191482]])"
      ]
     },
     "execution_count": 37,
     "metadata": {},
     "output_type": "execute_result"
    }
   ],
   "source": [
    "q = np.random.rand(2,2)\n",
    "q"
   ]
  },
  {
   "cell_type": "code",
   "execution_count": 43,
   "id": "cd01cc37",
   "metadata": {},
   "outputs": [
    {
     "data": {
      "text/plain": [
       "array([[ 0.70899078,  0.74364271],\n",
       "       [ 1.91620783, -0.54118105]])"
      ]
     },
     "execution_count": 43,
     "metadata": {},
     "output_type": "execute_result"
    }
   ],
   "source": [
    "np.random.randn(2,2)"
   ]
  },
  {
   "cell_type": "code",
   "execution_count": 52,
   "id": "4f3324aa",
   "metadata": {},
   "outputs": [
    {
     "data": {
      "text/plain": [
       "array([[[[8, 1, 1, 2, 2],\n",
       "         [1, 8, 8, 9, 8]],\n",
       "\n",
       "        [[6, 2, 8, 8, 9],\n",
       "         [3, 2, 6, 1, 1]],\n",
       "\n",
       "        [[3, 5, 6, 4, 2],\n",
       "         [3, 5, 1, 7, 9]],\n",
       "\n",
       "        [[8, 4, 8, 2, 5],\n",
       "         [8, 9, 8, 1, 9]],\n",
       "\n",
       "        [[1, 1, 4, 9, 5],\n",
       "         [8, 3, 9, 8, 2]]],\n",
       "\n",
       "\n",
       "       [[[5, 7, 4, 4, 9],\n",
       "         [8, 4, 5, 4, 3]],\n",
       "\n",
       "        [[9, 1, 8, 2, 4],\n",
       "         [4, 9, 4, 1, 3]],\n",
       "\n",
       "        [[3, 3, 5, 3, 1],\n",
       "         [1, 4, 6, 4, 4]],\n",
       "\n",
       "        [[3, 1, 4, 6, 7],\n",
       "         [2, 3, 7, 9, 5]],\n",
       "\n",
       "        [[3, 8, 9, 7, 3],\n",
       "         [3, 4, 1, 1, 8]]]])"
      ]
     },
     "execution_count": 52,
     "metadata": {},
     "output_type": "execute_result"
    }
   ],
   "source": [
    "np.random.randint(1,10,100).reshape(2,5,2,5)"
   ]
  },
  {
   "cell_type": "code",
   "execution_count": null,
   "id": "19833b58",
   "metadata": {},
   "outputs": [],
   "source": []
  },
  {
   "cell_type": "code",
   "execution_count": null,
   "id": "4183b527",
   "metadata": {},
   "outputs": [],
   "source": []
  }
 ],
 "metadata": {
  "kernelspec": {
   "display_name": "Python 3 (ipykernel)",
   "language": "python",
   "name": "python3"
  },
  "language_info": {
   "codemirror_mode": {
    "name": "ipython",
    "version": 3
   },
   "file_extension": ".py",
   "mimetype": "text/x-python",
   "name": "python",
   "nbconvert_exporter": "python",
   "pygments_lexer": "ipython3",
   "version": "3.10.9"
  }
 },
 "nbformat": 4,
 "nbformat_minor": 5
}
