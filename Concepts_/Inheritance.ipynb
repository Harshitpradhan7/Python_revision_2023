{
 "cells": [
  {
   "cell_type": "markdown",
   "id": "bf667a33",
   "metadata": {},
   "source": [
    "### Inheritance"
   ]
  },
  {
   "cell_type": "code",
   "execution_count": 7,
   "id": "8288a460",
   "metadata": {},
   "outputs": [],
   "source": [
    "class bike:\n",
    "    def __init__(self, color, company, model, enginetype):\n",
    "        self.color = color\n",
    "        self.company = company\n",
    "        self.model = model\n",
    "        self.engine = enginetype\n",
    "        \n",
    "    def engine_info(self):\n",
    "        return 'This is an {}cc. engine {} bike made by {} in year {}'.format(self.engine, self.color, self.company, self.model)"
   ]
  },
  {
   "cell_type": "code",
   "execution_count": 8,
   "id": "8e71942f",
   "metadata": {},
   "outputs": [],
   "source": [
    "class yamaha(bike):\n",
    "    def __init__(self, color, model, enginetype, backgear):\n",
    "        super().__init__(color, model, enginetype)\n",
    "        self.backgear = backgear\n",
    "    def electric(self):\n",
    "        print(\"Abc\")\n",
    "        "
   ]
  },
  {
   "cell_type": "code",
   "execution_count": 9,
   "id": "78dc2cd2",
   "metadata": {},
   "outputs": [
    {
     "ename": "TypeError",
     "evalue": "bike.__init__() missing 1 required positional argument: 'enginetype'",
     "output_type": "error",
     "traceback": [
      "\u001b[1;31m---------------------------------------------------------------------------\u001b[0m",
      "\u001b[1;31mTypeError\u001b[0m                                 Traceback (most recent call last)",
      "Cell \u001b[1;32mIn[9], line 1\u001b[0m\n\u001b[1;32m----> 1\u001b[0m yamaha1 \u001b[38;5;241m=\u001b[39m \u001b[43myamaha\u001b[49m\u001b[43m(\u001b[49m\u001b[38;5;124;43m'\u001b[39;49m\u001b[38;5;124;43mblack\u001b[39;49m\u001b[38;5;124;43m'\u001b[39;49m\u001b[43m,\u001b[49m\u001b[38;5;241;43m2022\u001b[39;49m\u001b[43m,\u001b[49m\u001b[43m \u001b[49m\u001b[38;5;241;43m430\u001b[39;49m\u001b[43m,\u001b[49m\u001b[43m \u001b[49m\u001b[38;5;28;43;01mTrue\u001b[39;49;00m\u001b[43m)\u001b[49m\n",
      "Cell \u001b[1;32mIn[8], line 3\u001b[0m, in \u001b[0;36myamaha.__init__\u001b[1;34m(self, color, model, enginetype, backgear)\u001b[0m\n\u001b[0;32m      2\u001b[0m \u001b[38;5;28;01mdef\u001b[39;00m \u001b[38;5;21m__init__\u001b[39m(\u001b[38;5;28mself\u001b[39m, color, model, enginetype, backgear):\n\u001b[1;32m----> 3\u001b[0m     \u001b[38;5;28;43msuper\u001b[39;49m\u001b[43m(\u001b[49m\u001b[43m)\u001b[49m\u001b[38;5;241;43m.\u001b[39;49m\u001b[38;5;21;43m__init__\u001b[39;49m\u001b[43m(\u001b[49m\u001b[43mcolor\u001b[49m\u001b[43m,\u001b[49m\u001b[43m \u001b[49m\u001b[43mmodel\u001b[49m\u001b[43m,\u001b[49m\u001b[43m \u001b[49m\u001b[43menginetype\u001b[49m\u001b[43m)\u001b[49m\n\u001b[0;32m      4\u001b[0m     \u001b[38;5;28mself\u001b[39m\u001b[38;5;241m.\u001b[39mbackgear \u001b[38;5;241m=\u001b[39m backgear\n",
      "\u001b[1;31mTypeError\u001b[0m: bike.__init__() missing 1 required positional argument: 'enginetype'"
     ]
    }
   ],
   "source": [
    "yamaha1 = yamaha('black',2022, 430, True)"
   ]
  },
  {
   "cell_type": "code",
   "execution_count": null,
   "id": "d1c38190",
   "metadata": {},
   "outputs": [],
   "source": []
  }
 ],
 "metadata": {
  "kernelspec": {
   "display_name": "Python 3 (ipykernel)",
   "language": "python",
   "name": "python3"
  },
  "language_info": {
   "codemirror_mode": {
    "name": "ipython",
    "version": 3
   },
   "file_extension": ".py",
   "mimetype": "text/x-python",
   "name": "python",
   "nbconvert_exporter": "python",
   "pygments_lexer": "ipython3",
   "version": "3.10.9"
  }
 },
 "nbformat": 4,
 "nbformat_minor": 5
}
