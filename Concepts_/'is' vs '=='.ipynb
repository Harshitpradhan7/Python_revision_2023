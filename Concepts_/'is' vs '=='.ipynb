{
 "cells": [
  {
   "cell_type": "code",
   "execution_count": 25,
   "id": "6564461f",
   "metadata": {},
   "outputs": [],
   "source": [
    "lst1=[1,3,5]\n",
    "lst2=[1,3,5]\n"
   ]
  },
  {
   "cell_type": "code",
   "execution_count": 26,
   "id": "06380e55",
   "metadata": {},
   "outputs": [
    {
     "data": {
      "text/plain": [
       "True"
      ]
     },
     "execution_count": 26,
     "metadata": {},
     "output_type": "execute_result"
    }
   ],
   "source": [
    "lst1 == lst2"
   ]
  },
  {
   "cell_type": "code",
   "execution_count": 27,
   "id": "293d0605",
   "metadata": {},
   "outputs": [
    {
     "data": {
      "text/plain": [
       "False"
      ]
     },
     "execution_count": 27,
     "metadata": {},
     "output_type": "execute_result"
    }
   ],
   "source": [
    "lst1 is lst2 # Why because lst1 is storted at differnt memory loction and lst2 is stored at different memory location"
   ]
  },
  {
   "cell_type": "code",
   "execution_count": 28,
   "id": "39db9559",
   "metadata": {},
   "outputs": [
    {
     "name": "stdout",
     "output_type": "stream",
     "text": [
      "0x1f5d8d2a0c0\n",
      "0x1f5d8d22d80\n"
     ]
    }
   ],
   "source": [
    "print(hex(id(lst1)))\n",
    "print(hex(id(lst2)))"
   ]
  },
  {
   "cell_type": "code",
   "execution_count": 29,
   "id": "62529ca5",
   "metadata": {},
   "outputs": [],
   "source": [
    "lst3=[1,3,7]\n",
    "lst4=lst3"
   ]
  },
  {
   "cell_type": "code",
   "execution_count": 31,
   "id": "c7052819",
   "metadata": {},
   "outputs": [
    {
     "data": {
      "text/plain": [
       "True"
      ]
     },
     "execution_count": 31,
     "metadata": {},
     "output_type": "execute_result"
    }
   ],
   "source": [
    "lst3 is lst4"
   ]
  },
  {
   "cell_type": "code",
   "execution_count": 32,
   "id": "34beadc8",
   "metadata": {},
   "outputs": [
    {
     "data": {
      "text/plain": [
       "True"
      ]
     },
     "execution_count": 32,
     "metadata": {},
     "output_type": "execute_result"
    }
   ],
   "source": [
    "lst4 is lst3"
   ]
  },
  {
   "cell_type": "code",
   "execution_count": 33,
   "id": "545dc09a",
   "metadata": {},
   "outputs": [
    {
     "name": "stdout",
     "output_type": "stream",
     "text": [
      "0x1f5d8d21cc0\n",
      "0x1f5d8d21cc0\n"
     ]
    }
   ],
   "source": [
    "print(hex(id(lst3)))\n",
    "print(hex(id(lst4)))"
   ]
  },
  {
   "cell_type": "code",
   "execution_count": null,
   "id": "10648169",
   "metadata": {},
   "outputs": [],
   "source": []
  }
 ],
 "metadata": {
  "kernelspec": {
   "display_name": "Python 3 (ipykernel)",
   "language": "python",
   "name": "python3"
  },
  "language_info": {
   "codemirror_mode": {
    "name": "ipython",
    "version": 3
   },
   "file_extension": ".py",
   "mimetype": "text/x-python",
   "name": "python",
   "nbconvert_exporter": "python",
   "pygments_lexer": "ipython3",
   "version": "3.10.9"
  }
 },
 "nbformat": 4,
 "nbformat_minor": 5
}
