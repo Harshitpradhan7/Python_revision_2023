{
 "cells": [
  {
   "cell_type": "code",
   "execution_count": null,
   "id": "6044b77d",
   "metadata": {},
   "outputs": [],
   "source": [
    "# Here Exception is a class."
   ]
  },
  {
   "cell_type": "code",
   "execution_count": 10,
   "id": "935bba26",
   "metadata": {},
   "outputs": [
    {
     "name": "stdout",
     "output_type": "stream",
     "text": [
      "name 'b' is not defined\n"
     ]
    }
   ],
   "source": [
    "\n",
    "try:\n",
    "    a=b\n",
    "except Exception as ex:\n",
    "    print(ex)"
   ]
  },
  {
   "cell_type": "code",
   "execution_count": 11,
   "id": "1f93bf02",
   "metadata": {},
   "outputs": [
    {
     "name": "stdout",
     "output_type": "stream",
     "text": [
      "name 'b' is not defined\n"
     ]
    }
   ],
   "source": [
    "# It is NameError that's why expect block with TypeError is not executed and error from exception class is being executed.\n",
    "try:\n",
    "    a=b\n",
    "except TypeError:\n",
    "    print(\"nhi chalu\")\n",
    "except Exception as ex:\n",
    "    print(ex)"
   ]
  },
  {
   "cell_type": "code",
   "execution_count": 13,
   "id": "f001c394",
   "metadata": {},
   "outputs": [
    {
     "name": "stdout",
     "output_type": "stream",
     "text": [
      "chal\n"
     ]
    }
   ],
   "source": [
    "# It is NameError that's why expect block with name error is executed\n",
    "try:\n",
    "    a=b\n",
    "except NameError:\n",
    "    print(\"chal\")\n",
    "except TypeError:\n",
    "    print(\"nhi chalu\")\n",
    "except Exception as ex:\n",
    "    print(ex)"
   ]
  },
  {
   "cell_type": "markdown",
   "id": "28e36754",
   "metadata": {},
   "source": [
    "### Division by zero Exception:"
   ]
  },
  {
   "cell_type": "code",
   "execution_count": 16,
   "id": "bfa102d8",
   "metadata": {},
   "outputs": [
    {
     "name": "stdout",
     "output_type": "stream",
     "text": [
      "Enter number 1: 45\n",
      "Enter number 2: 0\n",
      "division by zero\n"
     ]
    }
   ],
   "source": [
    "try:\n",
    "    a = int(input(\"Enter number 1: \"))\n",
    "    b = int(input(\"Enter number 2: \"))\n",
    "    c = a/b\n",
    "except Exception as ex:\n",
    "    print(ex)\n",
    "    "
   ]
  },
  {
   "cell_type": "code",
   "execution_count": 17,
   "id": "f6c34cc7",
   "metadata": {},
   "outputs": [
    {
     "name": "stdout",
     "output_type": "stream",
     "text": [
      "Enter number 1: 45\n",
      "Enter number 2: 0\n",
      "Why are you dividing a number by zero ?\n"
     ]
    }
   ],
   "source": [
    "try:\n",
    "    a = int(input(\"Enter number 1: \"))\n",
    "    b = int(input(\"Enter number 2: \"))\n",
    "    c = a/b\n",
    "except ZeroDivisionError:\n",
    "    print(\"Why are you dividing a number by zero?\")\n",
    "except Exception as ex:\n",
    "    print(ex)"
   ]
  },
  {
   "cell_type": "code",
   "execution_count": 20,
   "id": "49cb77f7",
   "metadata": {},
   "outputs": [
    {
     "name": "stdout",
     "output_type": "stream",
     "text": [
      "Enter number 1: 85\n",
      "Enter number 2: 0\n",
      "Why are you dividing a number by zero?\n"
     ]
    }
   ],
   "source": [
    "try:\n",
    "    a = int(input(\"Enter number 1: \"))\n",
    "    b = int(input(\"Enter number 2: \"))\n",
    "    c = a/b\n",
    "except ZeroDivisionError:\n",
    "    print(\"Why are you dividing a number by zero?\")\n",
    "except Exception as ex:\n",
    "    print(ex)\n",
    "else:\n",
    "    print(c)"
   ]
  },
  {
   "cell_type": "markdown",
   "id": "cb6117c3",
   "metadata": {},
   "source": [
    "### Custom Exception:"
   ]
  },
  {
   "cell_type": "code",
   "execution_count": 1,
   "id": "d423a27e",
   "metadata": {},
   "outputs": [],
   "source": [
    "class Error(Exception):\n",
    "    pass\n",
    "class dobException(Error):\n",
    "    pass"
   ]
  },
  {
   "cell_type": "code",
   "execution_count": 11,
   "id": "11135a53",
   "metadata": {},
   "outputs": [
    {
     "name": "stdout",
     "output_type": "stream",
     "text": [
      "Enter your age :45\n",
      "Not Eligible:\n"
     ]
    }
   ],
   "source": [
    "age = int(input(\"Enter your age :\"))\n",
    "try:\n",
    "    if age<=30 & age > 20:\n",
    "        print(\"Eligible for Examination.\")\n",
    "    else:\n",
    "        raise dobException\n",
    "except dobException:\n",
    "    print(\"Not Eligible:\")"
   ]
  },
  {
   "cell_type": "code",
   "execution_count": null,
   "id": "3db61495",
   "metadata": {},
   "outputs": [],
   "source": []
  }
 ],
 "metadata": {
  "kernelspec": {
   "display_name": "Python 3 (ipykernel)",
   "language": "python",
   "name": "python3"
  },
  "language_info": {
   "codemirror_mode": {
    "name": "ipython",
    "version": 3
   },
   "file_extension": ".py",
   "mimetype": "text/x-python",
   "name": "python",
   "nbconvert_exporter": "python",
   "pygments_lexer": "ipython3",
   "version": "3.10.9"
  }
 },
 "nbformat": 4,
 "nbformat_minor": 5
}
