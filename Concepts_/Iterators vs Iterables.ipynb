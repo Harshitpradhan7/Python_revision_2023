{
 "cells": [
  {
   "cell_type": "code",
   "execution_count": 1,
   "id": "dddfb7e2",
   "metadata": {},
   "outputs": [],
   "source": [
    "import numpy as np"
   ]
  },
  {
   "cell_type": "code",
   "execution_count": 2,
   "id": "0f93a13d",
   "metadata": {},
   "outputs": [
    {
     "data": {
      "text/plain": [
       "[0, 1, 2, 3, 4, 5, 6, 7]"
      ]
     },
     "execution_count": 2,
     "metadata": {},
     "output_type": "execute_result"
    }
   ],
   "source": [
    "lst= list(np.arange(8)) # Here list is an iterable.\n",
    "lst"
   ]
  },
  {
   "cell_type": "code",
   "execution_count": 3,
   "id": "c7cd6fac",
   "metadata": {},
   "outputs": [],
   "source": [
    "lst1 = iter(lst) # By using iter() function we can convert iterator into iterable. But why ??"
   ]
  },
  {
   "cell_type": "code",
   "execution_count": 4,
   "id": "942c0f47",
   "metadata": {},
   "outputs": [
    {
     "data": {
      "text/plain": [
       "<list_iterator at 0x254768e2da0>"
      ]
     },
     "execution_count": 4,
     "metadata": {},
     "output_type": "execute_result"
    }
   ],
   "source": [
    "lst1 # so, the answer is in case we have very large list we don't want to allocate a whole bunch of memory to list"
   ]
  },
  {
   "cell_type": "code",
   "execution_count": 13,
   "id": "cd0dc2bd",
   "metadata": {},
   "outputs": [
    {
     "data": {
      "text/plain": [
       "6"
      ]
     },
     "execution_count": 13,
     "metadata": {},
     "output_type": "execute_result"
    }
   ],
   "source": [
    "next(lst1)  # so as we convert it into iterable no memory is allocated to this list, untill we use next function."
   ]
  },
  {
   "cell_type": "code",
   "execution_count": 8,
   "id": "20da2499",
   "metadata": {},
   "outputs": [],
   "source": [
    "# By using next function we allocate memory to elements one by one."
   ]
  },
  {
   "cell_type": "code",
   "execution_count": null,
   "id": "91a9721b",
   "metadata": {},
   "outputs": [],
   "source": []
  }
 ],
 "metadata": {
  "kernelspec": {
   "display_name": "Python 3 (ipykernel)",
   "language": "python",
   "name": "python3"
  },
  "language_info": {
   "codemirror_mode": {
    "name": "ipython",
    "version": 3
   },
   "file_extension": ".py",
   "mimetype": "text/x-python",
   "name": "python",
   "nbconvert_exporter": "python",
   "pygments_lexer": "ipython3",
   "version": "3.10.9"
  }
 },
 "nbformat": 4,
 "nbformat_minor": 5
}
