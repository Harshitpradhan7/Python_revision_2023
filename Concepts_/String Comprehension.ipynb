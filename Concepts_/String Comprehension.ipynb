{
 "cells": [
  {
   "cell_type": "markdown",
   "id": "4af69475",
   "metadata": {},
   "source": [
    "### String Formatting:\n"
   ]
  },
  {
   "cell_type": "code",
   "execution_count": 9,
   "id": "0b59b0b0",
   "metadata": {},
   "outputs": [],
   "source": [
    "def greeting(name, age):\n",
    "    return 'Good Morning {}, today you are {} years old...'.format(name, age)"
   ]
  },
  {
   "cell_type": "code",
   "execution_count": 10,
   "id": "a9440046",
   "metadata": {},
   "outputs": [
    {
     "data": {
      "text/plain": [
       "'Good Morning Harshit, today you are 21 years old...'"
      ]
     },
     "execution_count": 10,
     "metadata": {},
     "output_type": "execute_result"
    }
   ],
   "source": [
    "greeting(\"Harshit\",21)"
   ]
  },
  {
   "cell_type": "code",
   "execution_count": 11,
   "id": "125a7605",
   "metadata": {},
   "outputs": [
    {
     "data": {
      "text/plain": [
       "'Good Morning 21, today you are Harshit years old...'"
      ]
     },
     "execution_count": 11,
     "metadata": {},
     "output_type": "execute_result"
    }
   ],
   "source": [
    "greeting(21,\"Harshit\")"
   ]
  },
  {
   "cell_type": "code",
   "execution_count": 12,
   "id": "31038a40",
   "metadata": {},
   "outputs": [],
   "source": [
    "# so to fix above error we put an placeholder i.e,"
   ]
  },
  {
   "cell_type": "code",
   "execution_count": 38,
   "id": "445e2f27",
   "metadata": {},
   "outputs": [],
   "source": [
    "def greeting1(name, age):\n",
    "    return 'Good Morning {name1}, today you are {age1} years old...'.format(name1 =name, age1 =age)"
   ]
  },
  {
   "cell_type": "code",
   "execution_count": 39,
   "id": "65e88b47",
   "metadata": {},
   "outputs": [
    {
     "data": {
      "text/plain": [
       "'Good Morning Harry, today you are 21 years old...'"
      ]
     },
     "execution_count": 39,
     "metadata": {},
     "output_type": "execute_result"
    }
   ],
   "source": [
    "greeting1('Harry',21)"
   ]
  },
  {
   "cell_type": "code",
   "execution_count": null,
   "id": "6eec33a4",
   "metadata": {},
   "outputs": [],
   "source": []
  }
 ],
 "metadata": {
  "kernelspec": {
   "display_name": "Python 3 (ipykernel)",
   "language": "python",
   "name": "python3"
  },
  "language_info": {
   "codemirror_mode": {
    "name": "ipython",
    "version": 3
   },
   "file_extension": ".py",
   "mimetype": "text/x-python",
   "name": "python",
   "nbconvert_exporter": "python",
   "pygments_lexer": "ipython3",
   "version": "3.10.9"
  }
 },
 "nbformat": 4,
 "nbformat_minor": 5
}
