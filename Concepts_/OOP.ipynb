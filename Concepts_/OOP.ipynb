{
 "cells": [
  {
   "cell_type": "markdown",
   "id": "d94231c2",
   "metadata": {},
   "source": [
    "### Class Creation(Bad Practice)"
   ]
  },
  {
   "cell_type": "code",
   "execution_count": 1,
   "id": "61238dc9",
   "metadata": {},
   "outputs": [],
   "source": [
    "class car:\n",
    "    pass"
   ]
  },
  {
   "cell_type": "code",
   "execution_count": 2,
   "id": "ca8acdb3",
   "metadata": {},
   "outputs": [],
   "source": [
    "car1 = car()"
   ]
  },
  {
   "cell_type": "code",
   "execution_count": 3,
   "id": "966360ba",
   "metadata": {},
   "outputs": [],
   "source": [
    "car1.windows = 5\n",
    "car1.doors = 4\n",
    "car1.enginetype = \"Diesel\""
   ]
  },
  {
   "cell_type": "code",
   "execution_count": 4,
   "id": "06be237e",
   "metadata": {},
   "outputs": [
    {
     "name": "stdout",
     "output_type": "stream",
     "text": [
      "4\n"
     ]
    }
   ],
   "source": [
    "print(car1.doors)"
   ]
  },
  {
   "cell_type": "code",
   "execution_count": 5,
   "id": "875bc0c8",
   "metadata": {},
   "outputs": [
    {
     "data": {
      "text/plain": [
       "['__class__',\n",
       " '__delattr__',\n",
       " '__dict__',\n",
       " '__dir__',\n",
       " '__doc__',\n",
       " '__eq__',\n",
       " '__format__',\n",
       " '__ge__',\n",
       " '__getattribute__',\n",
       " '__gt__',\n",
       " '__hash__',\n",
       " '__init__',\n",
       " '__init_subclass__',\n",
       " '__le__',\n",
       " '__lt__',\n",
       " '__module__',\n",
       " '__ne__',\n",
       " '__new__',\n",
       " '__reduce__',\n",
       " '__reduce_ex__',\n",
       " '__repr__',\n",
       " '__setattr__',\n",
       " '__sizeof__',\n",
       " '__str__',\n",
       " '__subclasshook__',\n",
       " '__weakref__',\n",
       " 'doors',\n",
       " 'enginetype',\n",
       " 'windows']"
      ]
     },
     "execution_count": 5,
     "metadata": {},
     "output_type": "execute_result"
    }
   ],
   "source": [
    "dir(car1)"
   ]
  },
  {
   "cell_type": "markdown",
   "id": "fa516844",
   "metadata": {},
   "source": [
    "### Class Creation(Good Practice)"
   ]
  },
  {
   "cell_type": "code",
   "execution_count": 14,
   "id": "5b4d87a5",
   "metadata": {},
   "outputs": [],
   "source": [
    "class bike:\n",
    "    def __init__(self, color, company, model, enginetype):\n",
    "        self.color = color\n",
    "        self.company = company\n",
    "        self.model = model\n",
    "        self.engine = enginetype\n",
    "        \n",
    "    def engine_info(self):\n",
    "        return 'This is an {}cc. engine {} bike made by {} in year {}'.format(self.engine, self.color, self.company, self.model)\n",
    "        \n",
    "    "
   ]
  },
  {
   "cell_type": "code",
   "execution_count": 15,
   "id": "172fe8ef",
   "metadata": {},
   "outputs": [],
   "source": [
    "bike1 = bike('black', 'Yamaha', 2015, 400)\n",
    "bike2 = bike('blue', 'Suzuki', 2018, 175)\n",
    "bike3 = bike('green', 'Honda', 2017, 250)\n",
    "bike4 = bike('white', 'Hero', 2019, 100)\n",
    "bike5 = bike('yellow', 'BMW', 2020, 300)"
   ]
  },
  {
   "cell_type": "code",
   "execution_count": 16,
   "id": "587e4b1a",
   "metadata": {},
   "outputs": [
    {
     "name": "stdout",
     "output_type": "stream",
     "text": [
      "black\n",
      "This is an 400cc. engine black bike made by Yamaha in year 2015\n"
     ]
    }
   ],
   "source": [
    "print(bike1.color)\n",
    "print(bike1.engine_info())"
   ]
  },
  {
   "cell_type": "code",
   "execution_count": 17,
   "id": "c62ae160",
   "metadata": {},
   "outputs": [
    {
     "name": "stdout",
     "output_type": "stream",
     "text": [
      "Suzuki\n",
      "This is an 175cc. engine blue bike made by Suzuki in year 2018\n"
     ]
    }
   ],
   "source": [
    "print(bike2.company)\n",
    "print(bike2.engine_info())"
   ]
  },
  {
   "cell_type": "code",
   "execution_count": 18,
   "id": "dcf2c220",
   "metadata": {},
   "outputs": [
    {
     "name": "stdout",
     "output_type": "stream",
     "text": [
      "250\n",
      "This is an 250cc. engine green bike made by Honda in year 2017\n"
     ]
    }
   ],
   "source": [
    "print(bike3.engine)\n",
    "print(bike3.engine_info())"
   ]
  },
  {
   "cell_type": "code",
   "execution_count": 19,
   "id": "2d15ee67",
   "metadata": {},
   "outputs": [
    {
     "name": "stdout",
     "output_type": "stream",
     "text": [
      "2019\n",
      "This is an 100cc. engine white bike made by Hero in year 2019\n"
     ]
    }
   ],
   "source": [
    "print(bike4.model)\n",
    "print(bike4.engine_info())"
   ]
  },
  {
   "cell_type": "code",
   "execution_count": 20,
   "id": "2013cdb9",
   "metadata": {},
   "outputs": [
    {
     "name": "stdout",
     "output_type": "stream",
     "text": [
      "300\n",
      "This is an 300cc. engine yellow bike made by BMW in year 2020\n"
     ]
    }
   ],
   "source": [
    "print(bike5.engine)\n",
    "print(bike5.engine_info())"
   ]
  },
  {
   "cell_type": "code",
   "execution_count": null,
   "id": "413c5f59",
   "metadata": {},
   "outputs": [],
   "source": []
  },
  {
   "cell_type": "code",
   "execution_count": null,
   "id": "3f4d348d",
   "metadata": {},
   "outputs": [],
   "source": []
  },
  {
   "cell_type": "code",
   "execution_count": null,
   "id": "e3a59179",
   "metadata": {},
   "outputs": [],
   "source": []
  },
  {
   "cell_type": "code",
   "execution_count": null,
   "id": "939c56f1",
   "metadata": {},
   "outputs": [],
   "source": []
  }
 ],
 "metadata": {
  "kernelspec": {
   "display_name": "Python 3 (ipykernel)",
   "language": "python",
   "name": "python3"
  },
  "language_info": {
   "codemirror_mode": {
    "name": "ipython",
    "version": 3
   },
   "file_extension": ".py",
   "mimetype": "text/x-python",
   "name": "python",
   "nbconvert_exporter": "python",
   "pygments_lexer": "ipython3",
   "version": "3.10.9"
  }
 },
 "nbformat": 4,
 "nbformat_minor": 5
}
