{
 "cells": [
  {
   "cell_type": "markdown",
   "id": "cd14a580",
   "metadata": {},
   "source": [
    "### Function copy "
   ]
  },
  {
   "cell_type": "code",
   "execution_count": 8,
   "id": "bb26c54a",
   "metadata": {},
   "outputs": [],
   "source": [
    "# Function copy\n",
    "def hello():\n",
    "    c =  \"Hello Everyone\"\n",
    "    return c\n",
    "    "
   ]
  },
  {
   "cell_type": "code",
   "execution_count": 9,
   "id": "4d3762b6",
   "metadata": {},
   "outputs": [
    {
     "data": {
      "text/plain": [
       "'Hello Everyone'"
      ]
     },
     "execution_count": 9,
     "metadata": {},
     "output_type": "execute_result"
    }
   ],
   "source": [
    "hello()"
   ]
  },
  {
   "cell_type": "code",
   "execution_count": 10,
   "id": "b02e2064",
   "metadata": {},
   "outputs": [],
   "source": [
    "greet = hello()"
   ]
  },
  {
   "cell_type": "code",
   "execution_count": 11,
   "id": "ce07b13b",
   "metadata": {},
   "outputs": [
    {
     "data": {
      "text/plain": [
       "'Hello Everyone'"
      ]
     },
     "execution_count": 11,
     "metadata": {},
     "output_type": "execute_result"
    }
   ],
   "source": [
    "greet"
   ]
  },
  {
   "cell_type": "code",
   "execution_count": 12,
   "id": "d1f7a8b9",
   "metadata": {},
   "outputs": [],
   "source": [
    "del hello"
   ]
  },
  {
   "cell_type": "code",
   "execution_count": 13,
   "id": "eb602d48",
   "metadata": {},
   "outputs": [
    {
     "ename": "NameError",
     "evalue": "name 'hello' is not defined",
     "output_type": "error",
     "traceback": [
      "\u001b[1;31m---------------------------------------------------------------------------\u001b[0m",
      "\u001b[1;31mNameError\u001b[0m                                 Traceback (most recent call last)",
      "Cell \u001b[1;32mIn[13], line 1\u001b[0m\n\u001b[1;32m----> 1\u001b[0m \u001b[43mhello\u001b[49m()\n",
      "\u001b[1;31mNameError\u001b[0m: name 'hello' is not defined"
     ]
    }
   ],
   "source": [
    "hello()"
   ]
  },
  {
   "cell_type": "code",
   "execution_count": 14,
   "id": "8d83a406",
   "metadata": {},
   "outputs": [
    {
     "data": {
      "text/plain": [
       "'Hello Everyone'"
      ]
     },
     "execution_count": 14,
     "metadata": {},
     "output_type": "execute_result"
    }
   ],
   "source": [
    "greet"
   ]
  },
  {
   "cell_type": "code",
   "execution_count": 15,
   "id": "0be4cca8",
   "metadata": {},
   "outputs": [],
   "source": [
    "## Here we observe that we create copy of our hello function in greet variable.\n",
    "# so even after deleting hello function it remain copy in greet variable."
   ]
  },
  {
   "cell_type": "markdown",
   "id": "d327c38d",
   "metadata": {},
   "source": [
    "### Closures "
   ]
  },
  {
   "cell_type": "code",
   "execution_count": 16,
   "id": "9769db2a",
   "metadata": {},
   "outputs": [],
   "source": [
    "# Here in this example we create a variable in main function and we are this variable inside out child function.\n",
    "# This is known as closure."
   ]
  },
  {
   "cell_type": "code",
   "execution_count": 38,
   "id": "6deaadd9",
   "metadata": {},
   "outputs": [],
   "source": [
    "def main_welcome():\n",
    "    a = \"Yupp fools\"\n",
    "    def sub_welcome_class():\n",
    "        print(\"Hello guys\")\n",
    "        print(a)\n",
    "        print(\"What is up guys?\")\n",
    "    return sub_welcome_class()"
   ]
  },
  {
   "cell_type": "code",
   "execution_count": 18,
   "id": "0b8b9b95",
   "metadata": {},
   "outputs": [
    {
     "data": {
      "text/plain": [
       "<function __main__.main_welcome()>"
      ]
     },
     "execution_count": 18,
     "metadata": {},
     "output_type": "execute_result"
    }
   ],
   "source": [
    "main_welcome"
   ]
  },
  {
   "cell_type": "code",
   "execution_count": 19,
   "id": "5cdf0909",
   "metadata": {},
   "outputs": [
    {
     "name": "stdout",
     "output_type": "stream",
     "text": [
      "Hello guys\n",
      "Yupp fool\n",
      "What is up guys?\n"
     ]
    }
   ],
   "source": [
    "main_welcome()"
   ]
  },
  {
   "cell_type": "markdown",
   "id": "c137e2b4",
   "metadata": {},
   "source": [
    "###  Decorators"
   ]
  },
  {
   "cell_type": "code",
   "execution_count": 20,
   "id": "696ee39b",
   "metadata": {},
   "outputs": [],
   "source": [
    "def main_welcome_1(func):\n",
    "    a = \"Yupp cool\"\n",
    "    def sub_welcome_class():\n",
    "        print(\"Hello guys\")\n",
    "        func()\n",
    "        print(\"What is up guys?\")\n",
    "    return sub_welcome_class()"
   ]
  },
  {
   "cell_type": "code",
   "execution_count": 21,
   "id": "963405c6",
   "metadata": {},
   "outputs": [
    {
     "name": "stdout",
     "output_type": "stream",
     "text": [
      "Hello guys\n",
      "\n",
      "What is up guys?\n"
     ]
    }
   ],
   "source": [
    "main_welcome_1(print)"
   ]
  },
  {
   "cell_type": "code",
   "execution_count": 22,
   "id": "62a594bf",
   "metadata": {},
   "outputs": [],
   "source": [
    "def main_welcome_2(func):\n",
    "    a = \"Yupp cool\"\n",
    "    def sub_welcome_class():\n",
    "        print(\"Hello guys\")\n",
    "        func(a)\n",
    "        print(\"What is up guys?\")\n",
    "    return sub_welcome_class()"
   ]
  },
  {
   "cell_type": "code",
   "execution_count": 23,
   "id": "80e0ec28",
   "metadata": {},
   "outputs": [
    {
     "name": "stdout",
     "output_type": "stream",
     "text": [
      "Hello guys\n",
      "Yupp cool\n",
      "What is up guys?\n"
     ]
    }
   ],
   "source": [
    "main_welcome_2(print)"
   ]
  },
  {
   "cell_type": "code",
   "execution_count": 24,
   "id": "83a7a94f",
   "metadata": {},
   "outputs": [],
   "source": [
    "# Passing a function in a function"
   ]
  },
  {
   "cell_type": "code",
   "execution_count": 25,
   "id": "41c9e972",
   "metadata": {},
   "outputs": [],
   "source": [
    "def msg():\n",
    "    print(\"Thank you God !\")"
   ]
  },
  {
   "cell_type": "code",
   "execution_count": 26,
   "id": "0db81982",
   "metadata": {},
   "outputs": [
    {
     "name": "stdout",
     "output_type": "stream",
     "text": [
      "Hello guys\n",
      "Thank you God !\n",
      "What is up guys?\n"
     ]
    }
   ],
   "source": [
    "main_welcome_1(msg)"
   ]
  },
  {
   "cell_type": "code",
   "execution_count": 27,
   "id": "d2b1546d",
   "metadata": {},
   "outputs": [
    {
     "name": "stdout",
     "output_type": "stream",
     "text": [
      "Hello guys\n",
      "Thank you God !\n",
      "What is up guys?\n"
     ]
    }
   ],
   "source": [
    "@main_welcome_1\n",
    "def msg():\n",
    "    print(\"Thank you God !\")"
   ]
  },
  {
   "cell_type": "code",
   "execution_count": 31,
   "id": "dd712e79",
   "metadata": {},
   "outputs": [
    {
     "name": "stdout",
     "output_type": "stream",
     "text": [
      "Hello guys\n",
      "Yupp cool\n",
      "Aao toh Welcome jao toh bheed kam!\n",
      "What is up guys?\n"
     ]
    }
   ],
   "source": [
    "#here we are adding main_welcome_2 as a decorater and now it is \n",
    "@main_welcome_2 # Decorater\n",
    "def slogan(a):\n",
    "    print(a)\n",
    "    print('Aao toh Welcome jao toh bheed kam!')"
   ]
  },
  {
   "cell_type": "code",
   "execution_count": null,
   "id": "67eb44ce",
   "metadata": {},
   "outputs": [],
   "source": []
  },
  {
   "cell_type": "code",
   "execution_count": 40,
   "id": "4099b9ab",
   "metadata": {},
   "outputs": [],
   "source": []
  },
  {
   "cell_type": "code",
   "execution_count": null,
   "id": "3bfa816e",
   "metadata": {},
   "outputs": [],
   "source": []
  }
 ],
 "metadata": {
  "kernelspec": {
   "display_name": "Python 3 (ipykernel)",
   "language": "python",
   "name": "python3"
  },
  "language_info": {
   "codemirror_mode": {
    "name": "ipython",
    "version": 3
   },
   "file_extension": ".py",
   "mimetype": "text/x-python",
   "name": "python",
   "nbconvert_exporter": "python",
   "pygments_lexer": "ipython3",
   "version": "3.10.9"
  }
 },
 "nbformat": 4,
 "nbformat_minor": 5
}
