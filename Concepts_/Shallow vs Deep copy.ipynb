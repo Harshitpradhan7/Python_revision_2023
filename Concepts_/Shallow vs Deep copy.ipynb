{
 "cells": [
  {
   "cell_type": "markdown",
   "id": "64e7308f",
   "metadata": {},
   "source": [
    "### Copy function and memory Allocation\n"
   ]
  },
  {
   "cell_type": "code",
   "execution_count": 2,
   "id": "a7e7cd85",
   "metadata": {},
   "outputs": [],
   "source": [
    "lst1= [1,2,3,4]\n",
    "lst2 = lst1"
   ]
  },
  {
   "cell_type": "code",
   "execution_count": 3,
   "id": "7c48384a",
   "metadata": {},
   "outputs": [
    {
     "data": {
      "text/plain": [
       "([1, 2, 3, 4], [1, 2, 3, 4])"
      ]
     },
     "execution_count": 3,
     "metadata": {},
     "output_type": "execute_result"
    }
   ],
   "source": [
    "lst1, lst2"
   ]
  },
  {
   "cell_type": "code",
   "execution_count": 4,
   "id": "40970331",
   "metadata": {},
   "outputs": [
    {
     "name": "stdout",
     "output_type": "stream",
     "text": [
      "0x1bbd617edc0\n",
      "0x1bbd617edc0\n"
     ]
    }
   ],
   "source": [
    "print(hex(id(lst1)))\n",
    "print(hex(id(lst2)))"
   ]
  },
  {
   "cell_type": "code",
   "execution_count": 5,
   "id": "dc697017",
   "metadata": {},
   "outputs": [],
   "source": [
    "lst2[1] = 1000"
   ]
  },
  {
   "cell_type": "code",
   "execution_count": 6,
   "id": "f72bb06b",
   "metadata": {},
   "outputs": [
    {
     "data": {
      "text/plain": [
       "([1, 1000, 3, 4], [1, 1000, 3, 4])"
      ]
     },
     "execution_count": 6,
     "metadata": {},
     "output_type": "execute_result"
    }
   ],
   "source": [
    "lst1, lst2"
   ]
  },
  {
   "cell_type": "markdown",
   "id": "f1cd5636",
   "metadata": {},
   "source": [
    "### Shallow Copy\n",
    "#### Shallow Copy stores the references of objects to the original memory address."
   ]
  },
  {
   "cell_type": "code",
   "execution_count": 6,
   "id": "a1137042",
   "metadata": {},
   "outputs": [],
   "source": [
    "lst3 = [1,2,3]\n",
    "lst4 = lst3.copy()"
   ]
  },
  {
   "cell_type": "code",
   "execution_count": 7,
   "id": "1e688a5d",
   "metadata": {},
   "outputs": [
    {
     "data": {
      "text/plain": [
       "([1, 2, 3], [1, 2, 3])"
      ]
     },
     "execution_count": 7,
     "metadata": {},
     "output_type": "execute_result"
    }
   ],
   "source": [
    "lst3, lst4"
   ]
  },
  {
   "cell_type": "code",
   "execution_count": 8,
   "id": "95ff4321",
   "metadata": {},
   "outputs": [
    {
     "name": "stdout",
     "output_type": "stream",
     "text": [
      "0x1bbd61b8bc0\n",
      "0x1bbd61b7bc0\n"
     ]
    }
   ],
   "source": [
    "print(hex(id(lst3)))\n",
    "print(hex(id(lst4)))"
   ]
  },
  {
   "cell_type": "code",
   "execution_count": 7,
   "id": "96e67fd7",
   "metadata": {},
   "outputs": [],
   "source": [
    "lst4[2]= 125"
   ]
  },
  {
   "cell_type": "code",
   "execution_count": 8,
   "id": "18ce614f",
   "metadata": {},
   "outputs": [
    {
     "data": {
      "text/plain": [
       "([1, 2, 3], [1, 2, 125])"
      ]
     },
     "execution_count": 8,
     "metadata": {},
     "output_type": "execute_result"
    }
   ],
   "source": [
    "lst3, lst4"
   ]
  },
  {
   "cell_type": "markdown",
   "id": "16aebf61",
   "metadata": {},
   "source": [
    "### Shallow copy in multi dimension list"
   ]
  },
  {
   "cell_type": "code",
   "execution_count": 12,
   "id": "375a4f46",
   "metadata": {},
   "outputs": [],
   "source": [
    "a = [[1,2,3],[3,4,5],[5,6,7]]\n",
    "b = a.copy()"
   ]
  },
  {
   "cell_type": "code",
   "execution_count": 13,
   "id": "9634ee70",
   "metadata": {},
   "outputs": [
    {
     "data": {
      "text/plain": [
       "([[1, 2, 3], [3, 4, 5], [5, 6, 7]], [[1, 2, 3], [3, 4, 5], [5, 6, 7]])"
      ]
     },
     "execution_count": 13,
     "metadata": {},
     "output_type": "execute_result"
    }
   ],
   "source": [
    "a,b"
   ]
  },
  {
   "cell_type": "code",
   "execution_count": 14,
   "id": "ee75eac9",
   "metadata": {},
   "outputs": [],
   "source": [
    "b[1][2] = 100"
   ]
  },
  {
   "cell_type": "code",
   "execution_count": 15,
   "id": "37a57bd6",
   "metadata": {},
   "outputs": [
    {
     "data": {
      "text/plain": [
       "([[1, 2, 3], [3, 4, 100], [5, 6, 7]], [[1, 2, 3], [3, 4, 100], [5, 6, 7]])"
      ]
     },
     "execution_count": 15,
     "metadata": {},
     "output_type": "execute_result"
    }
   ],
   "source": [
    "a,b # as we observe in case of shallow copy both lists get updated:"
   ]
  },
  {
   "cell_type": "code",
   "execution_count": null,
   "id": "b4ebf3f9",
   "metadata": {},
   "outputs": [],
   "source": []
  },
  {
   "cell_type": "markdown",
   "id": "cb82963c",
   "metadata": {},
   "source": [
    "###  Deep Copy\n",
    "#### Deep copy stores copies of the object’s value."
   ]
  },
  {
   "cell_type": "code",
   "execution_count": 9,
   "id": "789d84d9",
   "metadata": {},
   "outputs": [],
   "source": [
    "import copy"
   ]
  },
  {
   "cell_type": "code",
   "execution_count": 20,
   "id": "0f80a9d7",
   "metadata": {},
   "outputs": [],
   "source": [
    "ls1 = [[1,2,3],[3,4,5],[5,6,7]]\n",
    "ls2 = copy.deepcopy(ls1)"
   ]
  },
  {
   "cell_type": "code",
   "execution_count": 21,
   "id": "5ff6637e",
   "metadata": {},
   "outputs": [
    {
     "data": {
      "text/plain": [
       "([[1, 2, 3], [3, 4, 5], [5, 6, 7]], [[1, 2, 3], [3, 4, 5], [5, 6, 7]])"
      ]
     },
     "execution_count": 21,
     "metadata": {},
     "output_type": "execute_result"
    }
   ],
   "source": [
    "ls1, ls2"
   ]
  },
  {
   "cell_type": "code",
   "execution_count": 24,
   "id": "9adca2d7",
   "metadata": {},
   "outputs": [],
   "source": [
    "ls2[1][2] = 100 # in case of deep copy when we updated the ls2 only ls2 gets updated."
   ]
  },
  {
   "cell_type": "code",
   "execution_count": 25,
   "id": "04034489",
   "metadata": {},
   "outputs": [
    {
     "data": {
      "text/plain": [
       "([[1, 2, 3], [3, 4, 5], [5, 6, 7]], [[1, 2, 3], [3, 4, 100], [5, 6, 7]])"
      ]
     },
     "execution_count": 25,
     "metadata": {},
     "output_type": "execute_result"
    }
   ],
   "source": [
    "ls1, ls2"
   ]
  },
  {
   "cell_type": "code",
   "execution_count": null,
   "id": "4b962534",
   "metadata": {},
   "outputs": [],
   "source": []
  }
 ],
 "metadata": {
  "kernelspec": {
   "display_name": "Python 3 (ipykernel)",
   "language": "python",
   "name": "python3"
  },
  "language_info": {
   "codemirror_mode": {
    "name": "ipython",
    "version": 3
   },
   "file_extension": ".py",
   "mimetype": "text/x-python",
   "name": "python",
   "nbconvert_exporter": "python",
   "pygments_lexer": "ipython3",
   "version": "3.10.9"
  }
 },
 "nbformat": 4,
 "nbformat_minor": 5
}
