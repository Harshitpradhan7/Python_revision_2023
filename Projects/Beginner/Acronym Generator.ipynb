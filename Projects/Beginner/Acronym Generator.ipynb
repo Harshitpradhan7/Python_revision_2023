{
 "cells": [
  {
   "cell_type": "code",
   "execution_count": 16,
   "id": "56cc27a4",
   "metadata": {},
   "outputs": [
    {
     "name": "stdout",
     "output_type": "stream",
     "text": [
      "Enter the Phrase: Bhartiya Janta Party\n",
      " BJP\n"
     ]
    }
   ],
   "source": [
    "word = input('Enter the Phrase: ')\n",
    "splited_word = word.split()\n",
    "acr = \" \"\n",
    "for i in splited_word:\n",
    "    acr = acr + i[0].upper()\n",
    "print(acr)"
   ]
  },
  {
   "cell_type": "code",
   "execution_count": null,
   "id": "7d2d7758",
   "metadata": {},
   "outputs": [],
   "source": []
  }
 ],
 "metadata": {
  "kernelspec": {
   "display_name": "Python 3 (ipykernel)",
   "language": "python",
   "name": "python3"
  },
  "language_info": {
   "codemirror_mode": {
    "name": "ipython",
    "version": 3
   },
   "file_extension": ".py",
   "mimetype": "text/x-python",
   "name": "python",
   "nbconvert_exporter": "python",
   "pygments_lexer": "ipython3",
   "version": "3.10.9"
  }
 },
 "nbformat": 4,
 "nbformat_minor": 5
}
