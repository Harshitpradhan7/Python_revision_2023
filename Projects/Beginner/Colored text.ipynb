{
 "cells": [
  {
   "cell_type": "code",
   "execution_count": 2,
   "id": "7f943320",
   "metadata": {},
   "outputs": [],
   "source": [
    "from colorama import Fore, Back, Style"
   ]
  },
  {
   "cell_type": "code",
   "execution_count": 12,
   "id": "441603e9",
   "metadata": {},
   "outputs": [
    {
     "name": "stdout",
     "output_type": "stream",
     "text": [
      "\u001b[34m \u001b[46m \u001b[1mHlo\n"
     ]
    }
   ],
   "source": [
    "print(Fore.BLUE,Back.CYAN, Style.BRIGHT + \"Hlo\")\n"
   ]
  },
  {
   "cell_type": "code",
   "execution_count": 13,
   "id": "ff897b4f",
   "metadata": {},
   "outputs": [
    {
     "name": "stdout",
     "output_type": "stream",
     "text": [
      "\u001b[31mRed\n"
     ]
    }
   ],
   "source": [
    "print(Fore.RED + \"Red\")"
   ]
  },
  {
   "cell_type": "code",
   "execution_count": 14,
   "id": "01da5b6e",
   "metadata": {},
   "outputs": [
    {
     "name": "stdout",
     "output_type": "stream",
     "text": [
      "\u001b[42m     \n"
     ]
    }
   ],
   "source": [
    "print(Back.GREEN + \"     \")"
   ]
  },
  {
   "cell_type": "code",
   "execution_count": 18,
   "id": "99bb6ea1",
   "metadata": {},
   "outputs": [
    {
     "name": "stdout",
     "output_type": "stream",
     "text": [
      "\u001b[2mDim Style\n",
      "\u001b[1mBright Style\n",
      "\u001b[22mNormal Style\n"
     ]
    }
   ],
   "source": [
    "print(Style.DIM + \"Dim Style\")\n",
    "print(Style.BRIGHT + \"Bright Style\")\n",
    "print(Style.NORMAL + \"Normal Style\")"
   ]
  },
  {
   "cell_type": "code",
   "execution_count": 26,
   "id": "fc62a539",
   "metadata": {},
   "outputs": [
    {
     "name": "stdout",
     "output_type": "stream",
     "text": [
      "\u001b[42m \u001b[37mHlo Guys I am going to be data scientist.\u001b[46m \u001b[32mAfter that I will become a Businessmen\n"
     ]
    }
   ],
   "source": [
    "print(Back.GREEN, Fore.WHITE + \"Hlo Guys I am going to be data scientist.\" + Back.CYAN, Fore.GREEN + \"After that I will become a Businessmen\")"
   ]
  },
  {
   "cell_type": "code",
   "execution_count": null,
   "id": "710c9052",
   "metadata": {},
   "outputs": [],
   "source": []
  }
 ],
 "metadata": {
  "kernelspec": {
   "display_name": "Python 3 (ipykernel)",
   "language": "python",
   "name": "python3"
  },
  "language_info": {
   "codemirror_mode": {
    "name": "ipython",
    "version": 3
   },
   "file_extension": ".py",
   "mimetype": "text/x-python",
   "name": "python",
   "nbconvert_exporter": "python",
   "pygments_lexer": "ipython3",
   "version": "3.10.9"
  }
 },
 "nbformat": 4,
 "nbformat_minor": 5
}
