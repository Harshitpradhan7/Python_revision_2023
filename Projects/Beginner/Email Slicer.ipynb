{
 "cells": [
  {
   "cell_type": "code",
   "execution_count": 16,
   "id": "f4983a72",
   "metadata": {},
   "outputs": [],
   "source": [
    "email = \"harshit  pradhanmitrc7@gmail.com\""
   ]
  },
  {
   "cell_type": "code",
   "execution_count": 17,
   "id": "1b7cb7a8",
   "metadata": {},
   "outputs": [],
   "source": [
    "email = email.strip()"
   ]
  },
  {
   "cell_type": "code",
   "execution_count": 20,
   "id": "c71bbd3f",
   "metadata": {},
   "outputs": [
    {
     "data": {
      "text/plain": [
       "'harshit  pradhanmitrc7@gmail.com'"
      ]
     },
     "execution_count": 20,
     "metadata": {},
     "output_type": "execute_result"
    }
   ],
   "source": [
    "email"
   ]
  },
  {
   "cell_type": "code",
   "execution_count": 18,
   "id": "d56164b7",
   "metadata": {},
   "outputs": [],
   "source": [
    "split_email = email.split('@')"
   ]
  },
  {
   "cell_type": "code",
   "execution_count": 19,
   "id": "cd591970",
   "metadata": {},
   "outputs": [
    {
     "data": {
      "text/plain": [
       "'harshit  pradhanmitrc7'"
      ]
     },
     "execution_count": 19,
     "metadata": {},
     "output_type": "execute_result"
    }
   ],
   "source": [
    "usr_name = split_email[0]\n",
    "usr_name"
   ]
  },
  {
   "cell_type": "code",
   "execution_count": 15,
   "id": "cb0e4a8a",
   "metadata": {},
   "outputs": [
    {
     "data": {
      "text/plain": [
       "'gmail.com'"
      ]
     },
     "execution_count": 15,
     "metadata": {},
     "output_type": "execute_result"
    }
   ],
   "source": [
    "domain_name = split_email[1] \n",
    "domain_name"
   ]
  },
  {
   "cell_type": "code",
   "execution_count": null,
   "id": "4592f508",
   "metadata": {},
   "outputs": [],
   "source": []
  }
 ],
 "metadata": {
  "kernelspec": {
   "display_name": "Python 3 (ipykernel)",
   "language": "python",
   "name": "python3"
  },
  "language_info": {
   "codemirror_mode": {
    "name": "ipython",
    "version": 3
   },
   "file_extension": ".py",
   "mimetype": "text/x-python",
   "name": "python",
   "nbconvert_exporter": "python",
   "pygments_lexer": "ipython3",
   "version": "3.10.9"
  }
 },
 "nbformat": 4,
 "nbformat_minor": 5
}
