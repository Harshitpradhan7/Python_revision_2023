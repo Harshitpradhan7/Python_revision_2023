{
 "cells": [
  {
   "cell_type": "code",
   "execution_count": 1,
   "id": "3dfc65b2",
   "metadata": {},
   "outputs": [],
   "source": [
    "import random"
   ]
  },
  {
   "cell_type": "code",
   "execution_count": 22,
   "id": "754db6ee",
   "metadata": {},
   "outputs": [
    {
     "name": "stdout",
     "output_type": "stream",
     "text": [
      "Enter the length of your password: 10\n"
     ]
    }
   ],
   "source": [
    "length = int(input(\"Enter the length of your password: \"))"
   ]
  },
  {
   "cell_type": "code",
   "execution_count": 23,
   "id": "c78f1f21",
   "metadata": {},
   "outputs": [],
   "source": [
    "samp = \"abcdefghijklmnopqrstuvwxyz01234567890ABCDEFGHIJKLMNOPQRSTUVWXYZ!@#$%^&*()?\""
   ]
  },
  {
   "cell_type": "code",
   "execution_count": 24,
   "id": "4eadae4c",
   "metadata": {},
   "outputs": [],
   "source": [
    "password = ''.join(random.sample(samp,length))"
   ]
  },
  {
   "cell_type": "code",
   "execution_count": 25,
   "id": "14d33742",
   "metadata": {},
   "outputs": [
    {
     "data": {
      "text/plain": [
       "'AqKF*iI(fh'"
      ]
     },
     "execution_count": 25,
     "metadata": {},
     "output_type": "execute_result"
    }
   ],
   "source": [
    "password"
   ]
  },
  {
   "cell_type": "code",
   "execution_count": 20,
   "id": "9ae13f23",
   "metadata": {},
   "outputs": [],
   "source": [
    "sample1 = \"abcdefghijklmnopqrstuvwxyz\"\n",
    "sample2 = \"01234567890\"\n",
    "sample3 = \"ABCDEFGHIJKLMNOPQRSTUVWXYZ\"\n",
    "sample4 = \"!@#$%^&*()?\""
   ]
  },
  {
   "cell_type": "code",
   "execution_count": null,
   "id": "02386a61",
   "metadata": {},
   "outputs": [],
   "source": []
  }
 ],
 "metadata": {
  "kernelspec": {
   "display_name": "Python 3 (ipykernel)",
   "language": "python",
   "name": "python3"
  },
  "language_info": {
   "codemirror_mode": {
    "name": "ipython",
    "version": 3
   },
   "file_extension": ".py",
   "mimetype": "text/x-python",
   "name": "python",
   "nbconvert_exporter": "python",
   "pygments_lexer": "ipython3",
   "version": "3.10.9"
  }
 },
 "nbformat": 4,
 "nbformat_minor": 5
}
