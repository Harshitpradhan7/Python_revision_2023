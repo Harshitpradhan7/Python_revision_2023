{
 "cells": [
  {
   "cell_type": "code",
   "execution_count": 36,
   "id": "1e875c2c",
   "metadata": {},
   "outputs": [],
   "source": [
    "from tkinter import Label, Tk\n",
    "import time"
   ]
  },
  {
   "cell_type": "code",
   "execution_count": 82,
   "id": "7de33e46",
   "metadata": {},
   "outputs": [],
   "source": [
    "app_window = Tk()"
   ]
  },
  {
   "cell_type": "code",
   "execution_count": 83,
   "id": "e09440e1",
   "metadata": {},
   "outputs": [
    {
     "data": {
      "text/plain": [
       "''"
      ]
     },
     "execution_count": 83,
     "metadata": {},
     "output_type": "execute_result"
    }
   ],
   "source": [
    "app_window.title(\"Digital clock\")\n",
    "app_window.geometry(\"420x150\")\n",
    "app_window.resizable(1,1)\n"
   ]
  },
  {
   "cell_type": "code",
   "execution_count": 84,
   "id": "7c08c107",
   "metadata": {},
   "outputs": [],
   "source": [
    "text_font = (\"Boulder\", 68, 'bold')\n",
    "background = \"#FFFFFF\"\n",
    "foreground = \"#000000\"\n",
    "border_width = 25"
   ]
  },
  {
   "cell_type": "code",
   "execution_count": 85,
   "id": "71945c16",
   "metadata": {},
   "outputs": [],
   "source": [
    "label = Label(app_window, font=text_font, bg=background, fg=foreground, bd=border_width) \n",
    "label.grid(row=0, column=1)"
   ]
  },
  {
   "cell_type": "code",
   "execution_count": 86,
   "id": "78eed02b",
   "metadata": {},
   "outputs": [],
   "source": [
    "def digital_clock():\n",
    "    time_live = time.strftime(\"%H:%M:%S\")\n",
    "    label.config(text= time_live)\n",
    "    label.after(200, digital_clock)"
   ]
  },
  {
   "cell_type": "code",
   "execution_count": 87,
   "id": "e2009752",
   "metadata": {},
   "outputs": [],
   "source": [
    "digital_clock()\n",
    "app_window.mainloop()"
   ]
  },
  {
   "cell_type": "code",
   "execution_count": null,
   "id": "8c2c21b2",
   "metadata": {},
   "outputs": [],
   "source": []
  }
 ],
 "metadata": {
  "kernelspec": {
   "display_name": "Python 3 (ipykernel)",
   "language": "python",
   "name": "python3"
  },
  "language_info": {
   "codemirror_mode": {
    "name": "ipython",
    "version": 3
   },
   "file_extension": ".py",
   "mimetype": "text/x-python",
   "name": "python",
   "nbconvert_exporter": "python",
   "pygments_lexer": "ipython3",
   "version": "3.10.9"
  }
 },
 "nbformat": 4,
 "nbformat_minor": 5
}
