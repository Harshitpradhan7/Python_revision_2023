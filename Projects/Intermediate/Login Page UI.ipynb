{
 "cells": [
  {
   "cell_type": "code",
   "execution_count": 2,
   "id": "5c007fce",
   "metadata": {},
   "outputs": [],
   "source": [
    "from tkinter import *"
   ]
  },
  {
   "cell_type": "code",
   "execution_count": 41,
   "id": "43133699",
   "metadata": {},
   "outputs": [
    {
     "data": {
      "text/plain": [
       "''"
      ]
     },
     "execution_count": 41,
     "metadata": {},
     "output_type": "execute_result"
    }
   ],
   "source": [
    "login_page = Tk()\n",
    "login_page.title(\"Login Page\")\n",
    "login_page.geometry(\"450x420\")\n",
    "login_page.resizable(0,0)"
   ]
  },
  {
   "cell_type": "code",
   "execution_count": 42,
   "id": "fe4f5f7b",
   "metadata": {},
   "outputs": [],
   "source": [
    "text_font = (\"Boulder\", 28, 'bold')"
   ]
  },
  {
   "cell_type": "code",
   "execution_count": 43,
   "id": "5ecf78ff",
   "metadata": {},
   "outputs": [],
   "source": [
    "title = Label(login_page, text = \"Login Page\", font = text_font).place(x = 100, y = 10)\n",
    "user_name = Label(login_page, text = \"Username\").place(x = 40, y = 80)\n",
    "password = Label(login_page, text = \"Password\").place(x = 40, y = 100)\n",
    "user_name_entry = Entry(login_page, width = 30).place(x = 105, y = 80)\n",
    "password_entry = Entry(login_page, width = 30).place(x = 105, y = 100)\n",
    "submit_button = Button(text= \"Submit\").place(x = 160, y = 200)"
   ]
  },
  {
   "cell_type": "code",
   "execution_count": null,
   "id": "956f78e3",
   "metadata": {},
   "outputs": [],
   "source": [
    "login_page.mainloop()"
   ]
  },
  {
   "cell_type": "code",
   "execution_count": null,
   "id": "aaa633ac",
   "metadata": {},
   "outputs": [],
   "source": []
  },
  {
   "cell_type": "code",
   "execution_count": null,
   "id": "f92c5e0d",
   "metadata": {},
   "outputs": [],
   "source": []
  }
 ],
 "metadata": {
  "kernelspec": {
   "display_name": "Python 3 (ipykernel)",
   "language": "python",
   "name": "python3"
  },
  "language_info": {
   "codemirror_mode": {
    "name": "ipython",
    "version": 3
   },
   "file_extension": ".py",
   "mimetype": "text/x-python",
   "name": "python",
   "nbconvert_exporter": "python",
   "pygments_lexer": "ipython3",
   "version": "3.10.9"
  }
 },
 "nbformat": 4,
 "nbformat_minor": 5
}
