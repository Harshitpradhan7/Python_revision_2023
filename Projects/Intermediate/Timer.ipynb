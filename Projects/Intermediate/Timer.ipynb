{
 "cells": [
  {
   "cell_type": "code",
   "execution_count": 21,
   "id": "d6f26855",
   "metadata": {},
   "outputs": [],
   "source": [
    "from tkinter import Label, Tk\n",
    "import time"
   ]
  },
  {
   "cell_type": "code",
   "execution_count": 22,
   "id": "001c66dd",
   "metadata": {},
   "outputs": [],
   "source": [
    "app_window = Tk()"
   ]
  },
  {
   "cell_type": "code",
   "execution_count": 23,
   "id": "a0080ba3",
   "metadata": {},
   "outputs": [
    {
     "data": {
      "text/plain": [
       "''"
      ]
     },
     "execution_count": 23,
     "metadata": {},
     "output_type": "execute_result"
    }
   ],
   "source": [
    "app_window.title(\"Timer App\")\n",
    "app_window.geometry(\"420x420\")\n",
    "app_window.resizable(0,0)"
   ]
  },
  {
   "cell_type": "code",
   "execution_count": 26,
   "id": "dcdc0361",
   "metadata": {},
   "outputs": [],
   "source": [
    "text_font = (\"Boulder\", 68, 'bold')\n",
    "background = \"#FFFFFF\"\n",
    "foreground = \"#000000\"\n",
    "border_width = 30"
   ]
  },
  {
   "cell_type": "code",
   "execution_count": 27,
   "id": "f62f7703",
   "metadata": {},
   "outputs": [],
   "source": [
    "label = Label(app_window, font= text_font, bg= background, fg =foreground, bd= border_width)"
   ]
  },
  {
   "cell_type": "code",
   "execution_count": null,
   "id": "366b74e3",
   "metadata": {},
   "outputs": [],
   "source": [
    "def timer():\n",
    "    "
   ]
  },
  {
   "cell_type": "code",
   "execution_count": null,
   "id": "c0683340",
   "metadata": {},
   "outputs": [],
   "source": []
  },
  {
   "cell_type": "code",
   "execution_count": null,
   "id": "1498c0d0",
   "metadata": {},
   "outputs": [],
   "source": []
  },
  {
   "cell_type": "code",
   "execution_count": 28,
   "id": "b14f0d31",
   "metadata": {},
   "outputs": [],
   "source": [
    "app_window.mainloop()"
   ]
  },
  {
   "cell_type": "code",
   "execution_count": null,
   "id": "1521de9e",
   "metadata": {},
   "outputs": [],
   "source": []
  }
 ],
 "metadata": {
  "kernelspec": {
   "display_name": "Python 3 (ipykernel)",
   "language": "python",
   "name": "python3"
  },
  "language_info": {
   "codemirror_mode": {
    "name": "ipython",
    "version": 3
   },
   "file_extension": ".py",
   "mimetype": "text/x-python",
   "name": "python",
   "nbconvert_exporter": "python",
   "pygments_lexer": "ipython3",
   "version": "3.10.9"
  }
 },
 "nbformat": 4,
 "nbformat_minor": 5
}
