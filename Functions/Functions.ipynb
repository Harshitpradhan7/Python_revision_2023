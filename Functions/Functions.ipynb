{
 "cells": [
  {
   "cell_type": "code",
   "execution_count": 1,
   "id": "e7b7a02f",
   "metadata": {},
   "outputs": [],
   "source": [
    "import numpy as np\n",
    "import pandas as pd"
   ]
  },
  {
   "cell_type": "code",
   "execution_count": 2,
   "id": "4d7ae223",
   "metadata": {},
   "outputs": [],
   "source": [
    "def myfunc(*args, **kwargs):\n",
    "    print(args)\n",
    "    print(kwargs)\n",
    "    "
   ]
  },
  {
   "cell_type": "code",
   "execution_count": 3,
   "id": "3d6d24d7",
   "metadata": {},
   "outputs": [
    {
     "name": "stdout",
     "output_type": "stream",
     "text": [
      "('Apple', 'Manho')\n",
      "{'time': 2, 'travel': 6}\n"
     ]
    }
   ],
   "source": [
    "myfunc('Apple', 'Manho', time = 2, travel = 6)"
   ]
  },
  {
   "cell_type": "code",
   "execution_count": 4,
   "id": "711097af",
   "metadata": {},
   "outputs": [],
   "source": [
    "lst = ['Apple', 'Manho']\n",
    "lst1 = {'time': 2, 'travel':6}"
   ]
  },
  {
   "cell_type": "code",
   "execution_count": 5,
   "id": "4d9662cb",
   "metadata": {},
   "outputs": [
    {
     "name": "stdout",
     "output_type": "stream",
     "text": [
      "('Apple', 'Manho')\n",
      "{'time': 2, 'travel': 6}\n"
     ]
    }
   ],
   "source": [
    "myfunc(*lst, **lst1)"
   ]
  },
  {
   "cell_type": "code",
   "execution_count": 6,
   "id": "ed02f9ab",
   "metadata": {},
   "outputs": [
    {
     "name": "stdout",
     "output_type": "stream",
     "text": [
      "(['Apple', 'Manho'], {'time': 2, 'travel': 6})\n",
      "{}\n"
     ]
    }
   ],
   "source": [
    "myfunc(lst, lst1)"
   ]
  },
  {
   "cell_type": "code",
   "execution_count": 7,
   "id": "4095f054",
   "metadata": {},
   "outputs": [],
   "source": [
    "func = lambda a,b: a*(b)**2\n"
   ]
  },
  {
   "cell_type": "code",
   "execution_count": 8,
   "id": "13813e95",
   "metadata": {},
   "outputs": [
    {
     "data": {
      "text/plain": [
       "18"
      ]
     },
     "execution_count": 8,
     "metadata": {},
     "output_type": "execute_result"
    }
   ],
   "source": [
    "func(2,3)\n"
   ]
  },
  {
   "cell_type": "code",
   "execution_count": 10,
   "id": "60f24f03",
   "metadata": {},
   "outputs": [
    {
     "data": {
      "text/plain": [
       "False"
      ]
     },
     "execution_count": 10,
     "metadata": {},
     "output_type": "execute_result"
    }
   ],
   "source": [
    "def ev(a):\n",
    "    if a%2 == 0:\n",
    "        return True\n",
    "    else:\n",
    "        return False\n",
    "ev(11)"
   ]
  },
  {
   "cell_type": "markdown",
   "id": "6dd129ca",
   "metadata": {},
   "source": [
    "### Lambda function \n",
    "##### we use lambda function when we have one line function... eg.\n",
    "###### Above and beow both functions are same."
   ]
  },
  {
   "cell_type": "code",
   "execution_count": 11,
   "id": "9eae844e",
   "metadata": {},
   "outputs": [],
   "source": [
    "even = lambda a: a%2==0 "
   ]
  },
  {
   "cell_type": "code",
   "execution_count": 12,
   "id": "6bdf6c8f",
   "metadata": {},
   "outputs": [
    {
     "data": {
      "text/plain": [
       "True"
      ]
     },
     "execution_count": 12,
     "metadata": {},
     "output_type": "execute_result"
    }
   ],
   "source": [
    "even(12)"
   ]
  },
  {
   "cell_type": "code",
   "execution_count": 13,
   "id": "0c67c2e6",
   "metadata": {},
   "outputs": [
    {
     "data": {
      "text/plain": [
       "False"
      ]
     },
     "execution_count": 13,
     "metadata": {},
     "output_type": "execute_result"
    }
   ],
   "source": [
    "even(1)"
   ]
  },
  {
   "cell_type": "code",
   "execution_count": 2,
   "id": "f113633a",
   "metadata": {},
   "outputs": [],
   "source": [
    "def ev_or_od(a):\n",
    "    if a%2 == 0:\n",
    "        return '{} is even'.format(a)\n",
    "    else:\n",
    "        return '{} is odd'.format(a)\n",
    "    \n",
    "def ev(a):\n",
    "    if a%2 == 0:\n",
    "        return a\n",
    "    \n",
    "def od(a):\n",
    "    if a%2 != 0:\n",
    "        return a\n",
    "    "
   ]
  },
  {
   "cell_type": "markdown",
   "id": "7a888b42",
   "metadata": {},
   "source": [
    "### We use map function when we have to pass list and function as an arguments."
   ]
  },
  {
   "cell_type": "code",
   "execution_count": 3,
   "id": "18ee324c",
   "metadata": {},
   "outputs": [],
   "source": [
    "lst= [2,1,4,3,22,5,1,98,12,33,14,66,12,67]\n"
   ]
  },
  {
   "cell_type": "code",
   "execution_count": 4,
   "id": "1b68b0e6",
   "metadata": {},
   "outputs": [
    {
     "data": {
      "text/plain": [
       "<map at 0x2187260dab0>"
      ]
     },
     "execution_count": 4,
     "metadata": {},
     "output_type": "execute_result"
    }
   ],
   "source": [
    "map(ev_or_od, lst)"
   ]
  },
  {
   "cell_type": "code",
   "execution_count": 5,
   "id": "0e2a5ba9",
   "metadata": {},
   "outputs": [
    {
     "data": {
      "text/plain": [
       "['2 is even',\n",
       " '1 is odd',\n",
       " '4 is even',\n",
       " '3 is odd',\n",
       " '22 is even',\n",
       " '5 is odd',\n",
       " '1 is odd',\n",
       " '98 is even',\n",
       " '12 is even',\n",
       " '33 is odd',\n",
       " '14 is even',\n",
       " '66 is even',\n",
       " '12 is even',\n",
       " '67 is odd']"
      ]
     },
     "execution_count": 5,
     "metadata": {},
     "output_type": "execute_result"
    }
   ],
   "source": [
    "list(map(ev_or_od, lst))"
   ]
  },
  {
   "cell_type": "code",
   "execution_count": null,
   "id": "f4a33017",
   "metadata": {},
   "outputs": [],
   "source": [
    "a = []\n",
    "\n",
    "for i in range(10):\n",
    "    p = np.random.randint(0,100)\n",
    "    a.append(p)\n",
    "    \n",
    "print(a)\n"
   ]
  },
  {
   "cell_type": "code",
   "execution_count": 6,
   "id": "af7bec0f",
   "metadata": {},
   "outputs": [
    {
     "ename": "NameError",
     "evalue": "name 'a' is not defined",
     "output_type": "error",
     "traceback": [
      "\u001b[1;31m---------------------------------------------------------------------------\u001b[0m",
      "\u001b[1;31mNameError\u001b[0m                                 Traceback (most recent call last)",
      "Cell \u001b[1;32mIn[6], line 1\u001b[0m\n\u001b[1;32m----> 1\u001b[0m \u001b[38;5;28mlist\u001b[39m(\u001b[38;5;28mmap\u001b[39m(ev_or_od, \u001b[43ma\u001b[49m))\n",
      "\u001b[1;31mNameError\u001b[0m: name 'a' is not defined"
     ]
    }
   ],
   "source": [
    "list(map(ev_or_od, a))"
   ]
  },
  {
   "cell_type": "code",
   "execution_count": null,
   "id": "ac85167c",
   "metadata": {},
   "outputs": [],
   "source": [
    "my_df = pd.DataFrame( index= np.arange(1,10), columns= ['Even', 'Odd'])\n",
    "my_df"
   ]
  },
  {
   "cell_type": "code",
   "execution_count": null,
   "id": "61a96cf1",
   "metadata": {},
   "outputs": [],
   "source": []
  },
  {
   "cell_type": "code",
   "execution_count": 7,
   "id": "184f897c",
   "metadata": {},
   "outputs": [
    {
     "data": {
      "text/plain": [
       "<filter at 0x2187259e8c0>"
      ]
     },
     "execution_count": 7,
     "metadata": {},
     "output_type": "execute_result"
    }
   ],
   "source": [
    "filter(ev, lst)"
   ]
  },
  {
   "cell_type": "code",
   "execution_count": 8,
   "id": "a9f319a9",
   "metadata": {},
   "outputs": [
    {
     "data": {
      "text/plain": [
       "[2, 4, 22, 98, 12, 14, 66, 12]"
      ]
     },
     "execution_count": 8,
     "metadata": {},
     "output_type": "execute_result"
    }
   ],
   "source": [
    "list(filter(ev, lst))"
   ]
  },
  {
   "cell_type": "code",
   "execution_count": null,
   "id": "2e221cb1",
   "metadata": {},
   "outputs": [],
   "source": []
  }
 ],
 "metadata": {
  "kernelspec": {
   "display_name": "Python 3 (ipykernel)",
   "language": "python",
   "name": "python3"
  },
  "language_info": {
   "codemirror_mode": {
    "name": "ipython",
    "version": 3
   },
   "file_extension": ".py",
   "mimetype": "text/x-python",
   "name": "python",
   "nbconvert_exporter": "python",
   "pygments_lexer": "ipython3",
   "version": "3.10.9"
  }
 },
 "nbformat": 4,
 "nbformat_minor": 5
}
