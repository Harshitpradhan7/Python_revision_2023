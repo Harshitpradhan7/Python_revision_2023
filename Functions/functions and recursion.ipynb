{
 "cells": [
  {
   "cell_type": "code",
   "execution_count": 1,
   "id": "fb100f54",
   "metadata": {},
   "outputs": [],
   "source": [
    "### Fibbonaci Series\n",
    "## 0,1,1,2,3,5,8,13,21....."
   ]
  },
  {
   "cell_type": "code",
   "execution_count": 3,
   "id": "5b61dfb6",
   "metadata": {},
   "outputs": [],
   "source": [
    "def fibo(n):\n",
    "    if n ==0 or n==1:\n",
    "        return n\n",
    "    else:\n",
    "        return fibo(n-1)+fibo(n-2)"
   ]
  },
  {
   "cell_type": "code",
   "execution_count": 8,
   "id": "9d1f26c2",
   "metadata": {},
   "outputs": [
    {
     "data": {
      "text/plain": [
       "5"
      ]
     },
     "execution_count": 8,
     "metadata": {},
     "output_type": "execute_result"
    }
   ],
   "source": [
    "fibo(5)"
   ]
  },
  {
   "cell_type": "code",
   "execution_count": 9,
   "id": "7a2e0bb1",
   "metadata": {},
   "outputs": [],
   "source": [
    "## Factorial\n",
    "def fact(n):\n",
    "    if n==0 or n==1:\n",
    "        return 1\n",
    "    else:\n",
    "        return n*fact(n-1)\n",
    "         "
   ]
  },
  {
   "cell_type": "code",
   "execution_count": 10,
   "id": "09b2bf89",
   "metadata": {},
   "outputs": [
    {
     "data": {
      "text/plain": [
       "120"
      ]
     },
     "execution_count": 10,
     "metadata": {},
     "output_type": "execute_result"
    }
   ],
   "source": [
    "fact(5)"
   ]
  },
  {
   "cell_type": "code",
   "execution_count": 11,
   "id": "13e0d90e",
   "metadata": {},
   "outputs": [
    {
     "data": {
      "text/plain": [
       "40320"
      ]
     },
     "execution_count": 11,
     "metadata": {},
     "output_type": "execute_result"
    }
   ],
   "source": [
    "fact(8)"
   ]
  },
  {
   "cell_type": "code",
   "execution_count": 12,
   "id": "67c8738b",
   "metadata": {},
   "outputs": [
    {
     "data": {
      "text/plain": [
       "3628800"
      ]
     },
     "execution_count": 12,
     "metadata": {},
     "output_type": "execute_result"
    }
   ],
   "source": [
    "fact(10)"
   ]
  },
  {
   "cell_type": "code",
   "execution_count": 49,
   "id": "62716c47",
   "metadata": {},
   "outputs": [
    {
     "data": {
      "text/plain": [
       "3"
      ]
     },
     "execution_count": 49,
     "metadata": {},
     "output_type": "execute_result"
    }
   ],
   "source": [
    "### Armstrong Number\n",
    "a = 894\n",
    "len(str(a))"
   ]
  },
  {
   "cell_type": "code",
   "execution_count": 50,
   "id": "2d0e2d65",
   "metadata": {},
   "outputs": [
    {
     "name": "stdout",
     "output_type": "stream",
     "text": [
      "4\n",
      "9\n",
      "8\n"
     ]
    }
   ],
   "source": [
    "ones_value = a%10\n",
    "tens_value = int((a/10)%10)\n",
    "hundred_value = int((a/100)%10)\n",
    "print(ones_value)\n",
    "print(tens_value)\n",
    "print(hundred_value)"
   ]
  },
  {
   "cell_type": "code",
   "execution_count": 48,
   "id": "5a3297f7",
   "metadata": {},
   "outputs": [],
   "source": [
    "def armstrong(n):\n",
    "    sum = 0 \n",
    "    for i in range(len(str(n))):\n",
    "        ind = int((n/10**i)%10)\n",
    "        ind_cubed = ind**3\n",
    "        sum+=ind_cubed\n",
    "    if n == sum:\n",
    "        return 'Armstrong number.'\n",
    "    else:\n",
    "        return 'Not an Armstrong Number'    "
   ]
  },
  {
   "cell_type": "code",
   "execution_count": 45,
   "id": "14f994a7",
   "metadata": {},
   "outputs": [
    {
     "data": {
      "text/plain": [
       "'Not an Armstrong Number'"
      ]
     },
     "execution_count": 45,
     "metadata": {},
     "output_type": "execute_result"
    }
   ],
   "source": [
    "armstrong(157)"
   ]
  },
  {
   "cell_type": "code",
   "execution_count": null,
   "id": "e33521b8",
   "metadata": {},
   "outputs": [],
   "source": []
  }
 ],
 "metadata": {
  "kernelspec": {
   "display_name": "Python 3 (ipykernel)",
   "language": "python",
   "name": "python3"
  },
  "language_info": {
   "codemirror_mode": {
    "name": "ipython",
    "version": 3
   },
   "file_extension": ".py",
   "mimetype": "text/x-python",
   "name": "python",
   "nbconvert_exporter": "python",
   "pygments_lexer": "ipython3",
   "version": "3.10.9"
  }
 },
 "nbformat": 4,
 "nbformat_minor": 5
}
